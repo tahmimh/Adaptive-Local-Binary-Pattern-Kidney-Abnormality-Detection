{
 "cells": [
  {
   "cell_type": "code",
   "execution_count": 1,
   "id": "cddd9030",
   "metadata": {
    "_cell_guid": "b1076dfc-b9ad-4769-8c92-a6c4dae69d19",
    "_uuid": "8f2839f25d086af736a60e9eeb907d3b93b6e0e5",
    "execution": {
     "iopub.execute_input": "2024-04-08T19:04:24.849109Z",
     "iopub.status.busy": "2024-04-08T19:04:24.848356Z",
     "iopub.status.idle": "2024-04-08T19:04:28.042242Z",
     "shell.execute_reply": "2024-04-08T19:04:28.040808Z"
    },
    "papermill": {
     "duration": 3.204557,
     "end_time": "2024-04-08T19:04:28.045167",
     "exception": false,
     "start_time": "2024-04-08T19:04:24.840610",
     "status": "completed"
    },
    "tags": []
   },
   "outputs": [],
   "source": [
    "import os\n",
    "import numpy as np\n",
    "import cv2\n",
    "from sklearn.svm import SVC\n",
    "from sklearn.model_selection import train_test_split\n",
    "from sklearn.metrics import accuracy_score, classification_report, confusion_matrix, roc_curve, auc\n",
    "from sklearn.preprocessing import label_binarize\n",
    "import seaborn as sns\n",
    "import matplotlib.pyplot as plt"
   ]
  },
  {
   "cell_type": "code",
   "execution_count": 2,
   "id": "af443d97",
   "metadata": {
    "execution": {
     "iopub.execute_input": "2024-04-08T19:04:28.057242Z",
     "iopub.status.busy": "2024-04-08T19:04:28.056669Z",
     "iopub.status.idle": "2024-04-08T19:04:28.074050Z",
     "shell.execute_reply": "2024-04-08T19:04:28.072622Z"
    },
    "papermill": {
     "duration": 0.026227,
     "end_time": "2024-04-08T19:04:28.076525",
     "exception": false,
     "start_time": "2024-04-08T19:04:28.050298",
     "status": "completed"
    },
    "tags": []
   },
   "outputs": [],
   "source": [
    "def get_pixel(img, center, x, y, bita=0.1):\n",
    "    \"\"\"\n",
    "    Get the pixel value of the image at coordinates x and y.\n",
    "    \"\"\"\n",
    "    try:\n",
    "        return img[x, y]\n",
    "    except IndexError:\n",
    "        # For pixels outside the image boundaries, return the intensity of the center pixel\n",
    "        return center\n",
    "\n",
    "def thresholded(center, pixels, bita=0.1):\n",
    "    \"\"\"\n",
    "    Compare pixel values around the center pixel.\n",
    "    \"\"\"\n",
    "    lower_bound = center * (1 - bita)\n",
    "    upper_bound = center * (1 + bita)\n",
    "    \n",
    "    output = []\n",
    "    for pixel in pixels:\n",
    "        if lower_bound <= pixel <= upper_bound:\n",
    "            output.append(1)\n",
    "        else:\n",
    "            output.append(0)\n",
    "    return output\n",
    "\n",
    "def compute_albp_pixel(img, x, y, bita=0.1):\n",
    "    \"\"\"\n",
    "    Compute the ALBP value of a single pixel.\n",
    "    \"\"\"\n",
    "    center = img[x, y]\n",
    "    pixels = [\n",
    "        get_pixel(img, center, x+1, y-1, bita),\n",
    "        get_pixel(img, center, x, y-1, bita),\n",
    "        get_pixel(img, center, x-1, y-1, bita),\n",
    "        get_pixel(img, center, x-1, y, bita),\n",
    "        get_pixel(img, center, x-1, y+1, bita),\n",
    "        get_pixel(img, center, x, y+1, bita),\n",
    "        get_pixel(img, center, x+1, y+1, bita),\n",
    "        get_pixel(img, center, x+1, y, bita)\n",
    "    ]\n",
    "    values = thresholded(center, pixels, bita)\n",
    "    res = 0\n",
    "    for i in range(len(values)):\n",
    "        res += values[i] * (2**i)\n",
    "    return res\n",
    "\n",
    "def compute_albp_image(image, bita=0.1):\n",
    "    \"\"\"\n",
    "    Compute the ALBP image.\n",
    "    \"\"\"\n",
    "    # Convert the image to grayscale if it's not already\n",
    "    if len(image.shape) > 2:\n",
    "        image = cv2.cvtColor(image, cv2.COLOR_BGR2GRAY)\n",
    "    \n",
    "    # Initialize the ALBP image with zeros\n",
    "    albp_image = np.zeros_like(image)\n",
    "    for i in range(1, image.shape[0] - 1):\n",
    "        for j in range(1, image.shape[1] - 1):\n",
    "            albp_image[i, j] = compute_albp_pixel(image, i, j, bita)\n",
    "    return albp_image"
   ]
  },
  {
   "cell_type": "code",
   "execution_count": 3,
   "id": "abc8eafd",
   "metadata": {
    "execution": {
     "iopub.execute_input": "2024-04-08T19:04:28.087810Z",
     "iopub.status.busy": "2024-04-08T19:04:28.087399Z",
     "iopub.status.idle": "2024-04-08T19:04:28.092707Z",
     "shell.execute_reply": "2024-04-08T19:04:28.091533Z"
    },
    "papermill": {
     "duration": 0.013761,
     "end_time": "2024-04-08T19:04:28.094982",
     "exception": false,
     "start_time": "2024-04-08T19:04:28.081221",
     "status": "completed"
    },
    "tags": []
   },
   "outputs": [],
   "source": [
    "# Data directories for different classes\n",
    "class_directories = {\n",
    "    'Cyst': '/kaggle/input/kidney-ct-scan-clahe/Cyst',\n",
    "    'Normal': '/kaggle/input/kidney-ct-scan-clahe/Normal',\n",
    "    'Stone': '/kaggle/input/kidney-ct-scan-clahe/Stone',\n",
    "    'Tumor': '/kaggle/input/kidney-ct-scan-clahe/Tumor'\n",
    "}\n"
   ]
  },
  {
   "cell_type": "code",
   "execution_count": 4,
   "id": "24e330f1",
   "metadata": {
    "execution": {
     "iopub.execute_input": "2024-04-08T19:04:28.106685Z",
     "iopub.status.busy": "2024-04-08T19:04:28.106287Z",
     "iopub.status.idle": "2024-04-08T19:04:28.111590Z",
     "shell.execute_reply": "2024-04-08T19:04:28.110355Z"
    },
    "papermill": {
     "duration": 0.014447,
     "end_time": "2024-04-08T19:04:28.114094",
     "exception": false,
     "start_time": "2024-04-08T19:04:28.099647",
     "status": "completed"
    },
    "tags": []
   },
   "outputs": [],
   "source": [
    "# List to store ALBP features and corresponding labels\n",
    "albp_features = []\n",
    "labels = []"
   ]
  },
  {
   "cell_type": "code",
   "execution_count": 5,
   "id": "1b71639e",
   "metadata": {
    "execution": {
     "iopub.execute_input": "2024-04-08T19:04:28.126866Z",
     "iopub.status.busy": "2024-04-08T19:04:28.126133Z",
     "iopub.status.idle": "2024-04-08T22:43:09.388793Z",
     "shell.execute_reply": "2024-04-08T22:43:09.387576Z"
    },
    "papermill": {
     "duration": 13121.272676,
     "end_time": "2024-04-08T22:43:09.392177",
     "exception": false,
     "start_time": "2024-04-08T19:04:28.119501",
     "status": "completed"
    },
    "tags": []
   },
   "outputs": [],
   "source": [
    "# Iterate over each class directory\n",
    "for class_label, directory in class_directories.items():\n",
    "    # List all image files in the directory\n",
    "    image_files = [os.path.join(directory, file) for file in os.listdir(directory)]\n",
    "    \n",
    "    # Extract ALBP features for each image and store them in the list\n",
    "    for image_file in image_files:\n",
    "        image = cv2.imread(image_file)\n",
    "        albp_feature = compute_albp_image(image)\n",
    "        albp_features.append(albp_feature.ravel())\n",
    "        labels.append(class_label)"
   ]
  },
  {
   "cell_type": "code",
   "execution_count": 6,
   "id": "aac99016",
   "metadata": {
    "execution": {
     "iopub.execute_input": "2024-04-08T22:43:09.405442Z",
     "iopub.status.busy": "2024-04-08T22:43:09.405034Z",
     "iopub.status.idle": "2024-04-08T22:43:10.053463Z",
     "shell.execute_reply": "2024-04-08T22:43:10.052089Z"
    },
    "papermill": {
     "duration": 0.65805,
     "end_time": "2024-04-08T22:43:10.056352",
     "exception": false,
     "start_time": "2024-04-08T22:43:09.398302",
     "status": "completed"
    },
    "tags": []
   },
   "outputs": [],
   "source": [
    "# Convert lists to numpy arrays\n",
    "albp_features = np.array(albp_features)\n",
    "labels = np.array(labels)"
   ]
  },
  {
   "cell_type": "code",
   "execution_count": 7,
   "id": "7fed46f7",
   "metadata": {
    "execution": {
     "iopub.execute_input": "2024-04-08T22:43:10.069440Z",
     "iopub.status.busy": "2024-04-08T22:43:10.069004Z",
     "iopub.status.idle": "2024-04-08T22:43:10.332898Z",
     "shell.execute_reply": "2024-04-08T22:43:10.331696Z"
    },
    "papermill": {
     "duration": 0.273538,
     "end_time": "2024-04-08T22:43:10.335844",
     "exception": false,
     "start_time": "2024-04-08T22:43:10.062306",
     "status": "completed"
    },
    "tags": []
   },
   "outputs": [],
   "source": [
    "# Split the dataset into training and testing sets\n",
    "X_train, X_test, y_train, y_test = train_test_split(albp_features, labels, test_size=0.2, random_state=42)"
   ]
  },
  {
   "cell_type": "code",
   "execution_count": 8,
   "id": "43b84d88",
   "metadata": {
    "execution": {
     "iopub.execute_input": "2024-04-08T22:43:10.348537Z",
     "iopub.status.busy": "2024-04-08T22:43:10.348135Z",
     "iopub.status.idle": "2024-04-08T22:43:10.353684Z",
     "shell.execute_reply": "2024-04-08T22:43:10.352534Z"
    },
    "papermill": {
     "duration": 0.014803,
     "end_time": "2024-04-08T22:43:10.356292",
     "exception": false,
     "start_time": "2024-04-08T22:43:10.341489",
     "status": "completed"
    },
    "tags": []
   },
   "outputs": [],
   "source": [
    "# Initialize the Support Vector Machine classifier\n",
    "svm_classifier = SVC(probability=True, random_state=42)"
   ]
  },
  {
   "cell_type": "code",
   "execution_count": 9,
   "id": "e422ec84",
   "metadata": {
    "execution": {
     "iopub.execute_input": "2024-04-08T22:43:10.369065Z",
     "iopub.status.busy": "2024-04-08T22:43:10.368304Z",
     "iopub.status.idle": "2024-04-09T04:02:41.881721Z",
     "shell.execute_reply": "2024-04-09T04:02:41.877220Z"
    },
    "papermill": {
     "duration": 19171.529001,
     "end_time": "2024-04-09T04:02:41.890751",
     "exception": false,
     "start_time": "2024-04-08T22:43:10.361750",
     "status": "completed"
    },
    "tags": []
   },
   "outputs": [
    {
     "data": {
      "text/html": [
       "<style>#sk-container-id-1 {color: black;background-color: white;}#sk-container-id-1 pre{padding: 0;}#sk-container-id-1 div.sk-toggleable {background-color: white;}#sk-container-id-1 label.sk-toggleable__label {cursor: pointer;display: block;width: 100%;margin-bottom: 0;padding: 0.3em;box-sizing: border-box;text-align: center;}#sk-container-id-1 label.sk-toggleable__label-arrow:before {content: \"▸\";float: left;margin-right: 0.25em;color: #696969;}#sk-container-id-1 label.sk-toggleable__label-arrow:hover:before {color: black;}#sk-container-id-1 div.sk-estimator:hover label.sk-toggleable__label-arrow:before {color: black;}#sk-container-id-1 div.sk-toggleable__content {max-height: 0;max-width: 0;overflow: hidden;text-align: left;background-color: #f0f8ff;}#sk-container-id-1 div.sk-toggleable__content pre {margin: 0.2em;color: black;border-radius: 0.25em;background-color: #f0f8ff;}#sk-container-id-1 input.sk-toggleable__control:checked~div.sk-toggleable__content {max-height: 200px;max-width: 100%;overflow: auto;}#sk-container-id-1 input.sk-toggleable__control:checked~label.sk-toggleable__label-arrow:before {content: \"▾\";}#sk-container-id-1 div.sk-estimator input.sk-toggleable__control:checked~label.sk-toggleable__label {background-color: #d4ebff;}#sk-container-id-1 div.sk-label input.sk-toggleable__control:checked~label.sk-toggleable__label {background-color: #d4ebff;}#sk-container-id-1 input.sk-hidden--visually {border: 0;clip: rect(1px 1px 1px 1px);clip: rect(1px, 1px, 1px, 1px);height: 1px;margin: -1px;overflow: hidden;padding: 0;position: absolute;width: 1px;}#sk-container-id-1 div.sk-estimator {font-family: monospace;background-color: #f0f8ff;border: 1px dotted black;border-radius: 0.25em;box-sizing: border-box;margin-bottom: 0.5em;}#sk-container-id-1 div.sk-estimator:hover {background-color: #d4ebff;}#sk-container-id-1 div.sk-parallel-item::after {content: \"\";width: 100%;border-bottom: 1px solid gray;flex-grow: 1;}#sk-container-id-1 div.sk-label:hover label.sk-toggleable__label {background-color: #d4ebff;}#sk-container-id-1 div.sk-serial::before {content: \"\";position: absolute;border-left: 1px solid gray;box-sizing: border-box;top: 0;bottom: 0;left: 50%;z-index: 0;}#sk-container-id-1 div.sk-serial {display: flex;flex-direction: column;align-items: center;background-color: white;padding-right: 0.2em;padding-left: 0.2em;position: relative;}#sk-container-id-1 div.sk-item {position: relative;z-index: 1;}#sk-container-id-1 div.sk-parallel {display: flex;align-items: stretch;justify-content: center;background-color: white;position: relative;}#sk-container-id-1 div.sk-item::before, #sk-container-id-1 div.sk-parallel-item::before {content: \"\";position: absolute;border-left: 1px solid gray;box-sizing: border-box;top: 0;bottom: 0;left: 50%;z-index: -1;}#sk-container-id-1 div.sk-parallel-item {display: flex;flex-direction: column;z-index: 1;position: relative;background-color: white;}#sk-container-id-1 div.sk-parallel-item:first-child::after {align-self: flex-end;width: 50%;}#sk-container-id-1 div.sk-parallel-item:last-child::after {align-self: flex-start;width: 50%;}#sk-container-id-1 div.sk-parallel-item:only-child::after {width: 0;}#sk-container-id-1 div.sk-dashed-wrapped {border: 1px dashed gray;margin: 0 0.4em 0.5em 0.4em;box-sizing: border-box;padding-bottom: 0.4em;background-color: white;}#sk-container-id-1 div.sk-label label {font-family: monospace;font-weight: bold;display: inline-block;line-height: 1.2em;}#sk-container-id-1 div.sk-label-container {text-align: center;}#sk-container-id-1 div.sk-container {/* jupyter's `normalize.less` sets `[hidden] { display: none; }` but bootstrap.min.css set `[hidden] { display: none !important; }` so we also need the `!important` here to be able to override the default hidden behavior on the sphinx rendered scikit-learn.org. See: https://github.com/scikit-learn/scikit-learn/issues/21755 */display: inline-block !important;position: relative;}#sk-container-id-1 div.sk-text-repr-fallback {display: none;}</style><div id=\"sk-container-id-1\" class=\"sk-top-container\"><div class=\"sk-text-repr-fallback\"><pre>SVC(probability=True, random_state=42)</pre><b>In a Jupyter environment, please rerun this cell to show the HTML representation or trust the notebook. <br />On GitHub, the HTML representation is unable to render, please try loading this page with nbviewer.org.</b></div><div class=\"sk-container\" hidden><div class=\"sk-item\"><div class=\"sk-estimator sk-toggleable\"><input class=\"sk-toggleable__control sk-hidden--visually\" id=\"sk-estimator-id-1\" type=\"checkbox\" checked><label for=\"sk-estimator-id-1\" class=\"sk-toggleable__label sk-toggleable__label-arrow\">SVC</label><div class=\"sk-toggleable__content\"><pre>SVC(probability=True, random_state=42)</pre></div></div></div></div></div>"
      ],
      "text/plain": [
       "SVC(probability=True, random_state=42)"
      ]
     },
     "execution_count": 9,
     "metadata": {},
     "output_type": "execute_result"
    }
   ],
   "source": [
    "# Fit the classifier on the training data\n",
    "svm_classifier.fit(X_train, y_train)"
   ]
  },
  {
   "cell_type": "code",
   "execution_count": 10,
   "id": "4f783a9d",
   "metadata": {
    "execution": {
     "iopub.execute_input": "2024-04-09T04:02:41.908600Z",
     "iopub.status.busy": "2024-04-09T04:02:41.906797Z",
     "iopub.status.idle": "2024-04-09T04:37:04.119488Z",
     "shell.execute_reply": "2024-04-09T04:37:04.109322Z"
    },
    "papermill": {
     "duration": 2062.241181,
     "end_time": "2024-04-09T04:37:04.138001",
     "exception": false,
     "start_time": "2024-04-09T04:02:41.896820",
     "status": "completed"
    },
    "tags": []
   },
   "outputs": [],
   "source": [
    "# Predict the labels for the test data\n",
    "y_pred = svm_classifier.predict(X_test)"
   ]
  },
  {
   "cell_type": "code",
   "execution_count": 11,
   "id": "c5e4d452",
   "metadata": {
    "execution": {
     "iopub.execute_input": "2024-04-09T04:37:04.170859Z",
     "iopub.status.busy": "2024-04-09T04:37:04.168609Z",
     "iopub.status.idle": "2024-04-09T04:37:04.192973Z",
     "shell.execute_reply": "2024-04-09T04:37:04.191601Z"
    },
    "papermill": {
     "duration": 0.044666,
     "end_time": "2024-04-09T04:37:04.199660",
     "exception": false,
     "start_time": "2024-04-09T04:37:04.154994",
     "status": "completed"
    },
    "tags": []
   },
   "outputs": [
    {
     "name": "stdout",
     "output_type": "stream",
     "text": [
      "Accuracy: 0.9971887550200803\n"
     ]
    }
   ],
   "source": [
    "# Calculate accuracy\n",
    "accuracy = accuracy_score(y_test, y_pred)\n",
    "print(\"Accuracy:\", accuracy)"
   ]
  },
  {
   "cell_type": "code",
   "execution_count": 12,
   "id": "9dcc40a9",
   "metadata": {
    "execution": {
     "iopub.execute_input": "2024-04-09T04:37:04.214710Z",
     "iopub.status.busy": "2024-04-09T04:37:04.214225Z",
     "iopub.status.idle": "2024-04-09T04:37:04.265948Z",
     "shell.execute_reply": "2024-04-09T04:37:04.264744Z"
    },
    "papermill": {
     "duration": 0.062465,
     "end_time": "2024-04-09T04:37:04.268618",
     "exception": false,
     "start_time": "2024-04-09T04:37:04.206153",
     "status": "completed"
    },
    "tags": []
   },
   "outputs": [
    {
     "name": "stdout",
     "output_type": "stream",
     "text": [
      "Classification Report:\n",
      "              precision    recall  f1-score   support\n",
      "\n",
      "        Cyst       0.99      1.00      1.00       765\n",
      "      Normal       1.00      1.00      1.00      1015\n",
      "       Stone       1.00      0.98      0.99       276\n",
      "       Tumor       1.00      1.00      1.00       434\n",
      "\n",
      "    accuracy                           1.00      2490\n",
      "   macro avg       1.00      0.99      1.00      2490\n",
      "weighted avg       1.00      1.00      1.00      2490\n",
      "\n"
     ]
    }
   ],
   "source": [
    "# Generate and print classification report\n",
    "class_report = classification_report(y_test, y_pred)\n",
    "print(\"Classification Report:\")\n",
    "print(class_report)"
   ]
  },
  {
   "cell_type": "code",
   "execution_count": 13,
   "id": "38b0b0b3",
   "metadata": {
    "execution": {
     "iopub.execute_input": "2024-04-09T04:37:04.284618Z",
     "iopub.status.busy": "2024-04-09T04:37:04.284172Z",
     "iopub.status.idle": "2024-04-09T04:37:04.801068Z",
     "shell.execute_reply": "2024-04-09T04:37:04.799750Z"
    },
    "papermill": {
     "duration": 0.529045,
     "end_time": "2024-04-09T04:37:04.804639",
     "exception": false,
     "start_time": "2024-04-09T04:37:04.275594",
     "status": "completed"
    },
    "tags": []
   },
   "outputs": [
    {
     "data": {
      "image/png": "[encoded data removed]",
      "text/plain": [
       "<Figure size 640x480 with 2 Axes>"
      ]
     },
     "metadata": {},
     "output_type": "display_data"
    }
   ],
   "source": [
    "# Generate and plot confusion matrix\n",
    "conf_matrix = confusion_matrix(y_test, y_pred)\n",
    "sns.heatmap(conf_matrix, annot=True, fmt='d', cmap='Blues', xticklabels=class_directories.keys(), yticklabels=class_directories.keys())\n",
    "plt.xlabel('Predicted Labels')\n",
    "plt.ylabel('True Labels')\n",
    "plt.title('Confusion Matrix')\n",
    "plt.show()\n"
   ]
  },
  {
   "cell_type": "code",
   "execution_count": 14,
   "id": "a090c0f3",
   "metadata": {
    "execution": {
     "iopub.execute_input": "2024-04-09T04:37:04.820646Z",
     "iopub.status.busy": "2024-04-09T04:37:04.820230Z",
     "iopub.status.idle": "2024-04-09T05:11:27.775411Z",
     "shell.execute_reply": "2024-04-09T05:11:27.772527Z"
    },
    "papermill": {
     "duration": 2062.998273,
     "end_time": "2024-04-09T05:11:27.809686",
     "exception": false,
     "start_time": "2024-04-09T04:37:04.811413",
     "status": "completed"
    },
    "tags": []
   },
   "outputs": [
    {
     "data": {
      "image/png": "[encoded data removed]",
      "text/plain": [
       "<Figure size 800x600 with 1 Axes>"
      ]
     },
     "metadata": {},
     "output_type": "display_data"
    }
   ],
   "source": [
    "# Binarize the labels\n",
    "y_test_bin = label_binarize(y_test, classes=['Cyst', 'Normal', 'Stone', 'Tumor'])\n",
    "\n",
    "# Predict probabilities for each class\n",
    "y_score = svm_classifier.predict_proba(X_test)\n",
    "\n",
    "# Compute ROC curve and ROC area for each class\n",
    "fpr = dict()\n",
    "tpr = dict()\n",
    "roc_auc = dict()\n",
    "n_classes = y_test_bin.shape[1]\n",
    "for i in range(n_classes):\n",
    "    fpr[i], tpr[i], _ = roc_curve(y_test_bin[:, i], y_score[:, i])\n",
    "    roc_auc[i] = auc(fpr[i], tpr[i])\n",
    "\n",
    "# Plot ROC curve\n",
    "plt.figure(figsize=(8, 6))\n",
    "colors = ['blue', 'green', 'red', 'orange']\n",
    "for i, color in zip(range(n_classes), colors):\n",
    "    plt.plot(fpr[i], tpr[i], color=color, lw=2, label='ROC curve (area = %0.2f)' % roc_auc[i])\n",
    "\n",
    "plt.plot([0, 1], [0, 1], color='gray', linestyle='--')\n",
    "plt.xlim([0.0, 1.0])\n",
    "plt.ylim([0.0, 1.05])\n",
    "plt.xlabel('False Positive Rate')\n",
    "plt.ylabel('True Positive Rate')\n",
    "plt.title('Receiver Operating Characteristic (ROC) Curve')\n",
    "plt.legend(loc=\"lower right\")\n",
    "plt.show()"
   ]
  }
 ],
 "metadata": {
  "kaggle": {
   "accelerator": "none",
   "dataSources": [
    {
     "datasetId": 4705852,
     "sourceId": 7993237,
     "sourceType": "datasetVersion"
    }
   ],
   "isGpuEnabled": false,
   "isInternetEnabled": true,
   "language": "python",
   "sourceType": "notebook"
  },
  "kernelspec": {
   "display_name": "Python 3",
   "language": "python",
   "name": "python3"
  },
  "language_info": {
   "codemirror_mode": {
    "name": "ipython",
    "version": 3
   },
   "file_extension": ".py",
   "mimetype": "text/x-python",
   "name": "python",
   "nbconvert_exporter": "python",
   "pygments_lexer": "ipython3",
   "version": "3.10.13"
  },
  "papermill": {
   "default_parameters": {},
   "duration": 36427.686177,
   "end_time": "2024-04-09T05:11:29.403903",
   "environment_variables": {},
   "exception": null,
   "input_path": "__notebook__.ipynb",
   "output_path": "__notebook__.ipynb",
   "parameters": {},
   "start_time": "2024-04-08T19:04:21.717726",
   "version": "2.5.0"
  }
 },
 "nbformat": 4,
 "nbformat_minor": 5
}
