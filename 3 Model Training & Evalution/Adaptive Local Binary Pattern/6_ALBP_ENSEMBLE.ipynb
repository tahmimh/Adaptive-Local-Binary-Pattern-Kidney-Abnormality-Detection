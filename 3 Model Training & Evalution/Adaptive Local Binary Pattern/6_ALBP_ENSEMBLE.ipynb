{
 "cells": [
  {
   "cell_type": "code",
   "execution_count": 1,
   "id": "f8d95d0d",
   "metadata": {
    "_cell_guid": "b1076dfc-b9ad-4769-8c92-a6c4dae69d19",
    "_uuid": "8f2839f25d086af736a60e9eeb907d3b93b6e0e5",
    "execution": {
     "iopub.execute_input": "2024-04-09T13:52:17.130318Z",
     "iopub.status.busy": "2024-04-09T13:52:17.129360Z",
     "iopub.status.idle": "2024-04-09T13:52:21.000641Z",
     "shell.execute_reply": "2024-04-09T13:52:20.999069Z"
    },
    "papermill": {
     "duration": 3.882458,
     "end_time": "2024-04-09T13:52:21.003684",
     "exception": false,
     "start_time": "2024-04-09T13:52:17.121226",
     "status": "completed"
    },
    "tags": []
   },
   "outputs": [],
   "source": [
    "import os\n",
    "import numpy as np\n",
    "import cv2\n",
    "from sklearn.ensemble import RandomForestClassifier, VotingClassifier\n",
    "from sklearn.neighbors import KNeighborsClassifier\n",
    "from sklearn.svm import SVC\n",
    "from sklearn.tree import DecisionTreeClassifier\n",
    "from sklearn.naive_bayes import GaussianNB\n",
    "from sklearn.model_selection import train_test_split\n",
    "from sklearn.metrics import accuracy_score, classification_report, confusion_matrix, roc_curve, auc\n",
    "from sklearn.preprocessing import label_binarize\n",
    "import seaborn as sns\n",
    "import matplotlib.pyplot as plt"
   ]
  },
  {
   "cell_type": "code",
   "execution_count": 2,
   "id": "d45f1acc",
   "metadata": {
    "execution": {
     "iopub.execute_input": "2024-04-09T13:52:21.017270Z",
     "iopub.status.busy": "2024-04-09T13:52:21.016533Z",
     "iopub.status.idle": "2024-04-09T13:52:21.035515Z",
     "shell.execute_reply": "2024-04-09T13:52:21.034026Z"
    },
    "papermill": {
     "duration": 0.029329,
     "end_time": "2024-04-09T13:52:21.038670",
     "exception": false,
     "start_time": "2024-04-09T13:52:21.009341",
     "status": "completed"
    },
    "tags": []
   },
   "outputs": [],
   "source": [
    "def get_pixel(img, center, x, y, bita=0.1):\n",
    "    \"\"\"\n",
    "    Get the pixel value of the image at coordinates x and y.\n",
    "    \"\"\"\n",
    "    try:\n",
    "        return img[x, y]\n",
    "    except IndexError:\n",
    "        # For pixels outside the image boundaries, return the intensity of the center pixel\n",
    "        return center\n",
    "\n",
    "def thresholded(center, pixels, bita=0.1):\n",
    "    \"\"\"\n",
    "    Compare pixel values around the center pixel.\n",
    "    \"\"\"\n",
    "    lower_bound = center * (1 - bita)\n",
    "    upper_bound = center * (1 + bita)\n",
    "    \n",
    "    output = []\n",
    "    for pixel in pixels:\n",
    "        if lower_bound <= pixel <= upper_bound:\n",
    "            output.append(1)\n",
    "        else:\n",
    "            output.append(0)\n",
    "    return output\n",
    "\n",
    "def compute_albp_pixel(img, x, y, bita=0.1):\n",
    "    \"\"\"\n",
    "    Compute the ALBP value of a single pixel.\n",
    "    \"\"\"\n",
    "    center = img[x, y]\n",
    "    pixels = [\n",
    "        get_pixel(img, center, x+1, y-1, bita),\n",
    "        get_pixel(img, center, x, y-1, bita),\n",
    "        get_pixel(img, center, x-1, y-1, bita),\n",
    "        get_pixel(img, center, x-1, y, bita),\n",
    "        get_pixel(img, center, x-1, y+1, bita),\n",
    "        get_pixel(img, center, x, y+1, bita),\n",
    "        get_pixel(img, center, x+1, y+1, bita),\n",
    "        get_pixel(img, center, x+1, y, bita)\n",
    "    ]\n",
    "    values = thresholded(center, pixels, bita)\n",
    "    res = 0\n",
    "    for i in range(len(values)):\n",
    "        res += values[i] * (2**i)\n",
    "    return res\n",
    "\n",
    "def compute_albp_image(image, bita=0.1):\n",
    "    \"\"\"\n",
    "    Compute the ALBP image.\n",
    "    \"\"\"\n",
    "    # Convert the image to grayscale if it's not already\n",
    "    if len(image.shape) > 2:\n",
    "        image = cv2.cvtColor(image, cv2.COLOR_BGR2GRAY)\n",
    "    \n",
    "    # Initialize the ALBP image with zeros\n",
    "    albp_image = np.zeros_like(image)\n",
    "    for i in range(1, image.shape[0] - 1):\n",
    "        for j in range(1, image.shape[1] - 1):\n",
    "            albp_image[i, j] = compute_albp_pixel(image, i, j, bita)\n",
    "    return albp_image\n"
   ]
  },
  {
   "cell_type": "code",
   "execution_count": 3,
   "id": "b15557db",
   "metadata": {
    "execution": {
     "iopub.execute_input": "2024-04-09T13:52:21.051936Z",
     "iopub.status.busy": "2024-04-09T13:52:21.051419Z",
     "iopub.status.idle": "2024-04-09T13:52:21.056901Z",
     "shell.execute_reply": "2024-04-09T13:52:21.055910Z"
    },
    "papermill": {
     "duration": 0.015585,
     "end_time": "2024-04-09T13:52:21.059618",
     "exception": false,
     "start_time": "2024-04-09T13:52:21.044033",
     "status": "completed"
    },
    "tags": []
   },
   "outputs": [],
   "source": [
    "# Data directories for different classes\n",
    "class_directories = {\n",
    "    'Cyst': '/kaggle/input/kidney-ct-scan-clahe/Cyst',\n",
    "    'Normal': '/kaggle/input/kidney-ct-scan-clahe/Normal',\n",
    "    'Stone': '/kaggle/input/kidney-ct-scan-clahe/Stone',\n",
    "    'Tumor': '/kaggle/input/kidney-ct-scan-clahe/Tumor'\n",
    "}"
   ]
  },
  {
   "cell_type": "code",
   "execution_count": 4,
   "id": "9c92688d",
   "metadata": {
    "execution": {
     "iopub.execute_input": "2024-04-09T13:52:21.073653Z",
     "iopub.status.busy": "2024-04-09T13:52:21.072838Z",
     "iopub.status.idle": "2024-04-09T13:52:21.078364Z",
     "shell.execute_reply": "2024-04-09T13:52:21.076906Z"
    },
    "papermill": {
     "duration": 0.015825,
     "end_time": "2024-04-09T13:52:21.081153",
     "exception": false,
     "start_time": "2024-04-09T13:52:21.065328",
     "status": "completed"
    },
    "tags": []
   },
   "outputs": [],
   "source": [
    "# List to store ALBP features and corresponding labels\n",
    "albp_features = []\n",
    "labels = []"
   ]
  },
  {
   "cell_type": "code",
   "execution_count": 5,
   "id": "e98446f0",
   "metadata": {
    "execution": {
     "iopub.execute_input": "2024-04-09T13:52:21.094458Z",
     "iopub.status.busy": "2024-04-09T13:52:21.093641Z",
     "iopub.status.idle": "2024-04-09T17:31:33.157508Z",
     "shell.execute_reply": "2024-04-09T17:31:33.153527Z"
    },
    "papermill": {
     "duration": 13152.079993,
     "end_time": "2024-04-09T17:31:33.166618",
     "exception": false,
     "start_time": "2024-04-09T13:52:21.086625",
     "status": "completed"
    },
    "tags": []
   },
   "outputs": [],
   "source": [
    "# Iterate over each class directory\n",
    "for class_label, directory in class_directories.items():\n",
    "    # List all image files in the directory\n",
    "    image_files = [os.path.join(directory, file) for file in os.listdir(directory)]\n",
    "    \n",
    "    # Extract ALBP features for each image and store them in the list\n",
    "    for image_file in image_files:\n",
    "        image = cv2.imread(image_file)\n",
    "        albp_feature = compute_albp_image(image)\n",
    "        albp_features.append(albp_feature.ravel())\n",
    "        labels.append(class_label)"
   ]
  },
  {
   "cell_type": "code",
   "execution_count": 6,
   "id": "23027838",
   "metadata": {
    "execution": {
     "iopub.execute_input": "2024-04-09T17:31:33.187960Z",
     "iopub.status.busy": "2024-04-09T17:31:33.187349Z",
     "iopub.status.idle": "2024-04-09T17:31:34.050056Z",
     "shell.execute_reply": "2024-04-09T17:31:34.048732Z"
    },
    "papermill": {
     "duration": 0.876788,
     "end_time": "2024-04-09T17:31:34.053480",
     "exception": false,
     "start_time": "2024-04-09T17:31:33.176692",
     "status": "completed"
    },
    "tags": []
   },
   "outputs": [],
   "source": [
    "# Convert lists to numpy arrays\n",
    "albp_features = np.array(albp_features)\n",
    "labels = np.array(labels)"
   ]
  },
  {
   "cell_type": "code",
   "execution_count": 7,
   "id": "993e6781",
   "metadata": {
    "execution": {
     "iopub.execute_input": "2024-04-09T17:31:34.069981Z",
     "iopub.status.busy": "2024-04-09T17:31:34.067165Z",
     "iopub.status.idle": "2024-04-09T17:31:34.356571Z",
     "shell.execute_reply": "2024-04-09T17:31:34.355206Z"
    },
    "papermill": {
     "duration": 0.300428,
     "end_time": "2024-04-09T17:31:34.359823",
     "exception": false,
     "start_time": "2024-04-09T17:31:34.059395",
     "status": "completed"
    },
    "tags": []
   },
   "outputs": [],
   "source": [
    "# Split the dataset into training and testing sets\n",
    "X_train, X_test, y_train, y_test = train_test_split(albp_features, labels, test_size=0.2, random_state=42)\n"
   ]
  },
  {
   "cell_type": "code",
   "execution_count": 8,
   "id": "82f8a3df",
   "metadata": {
    "execution": {
     "iopub.execute_input": "2024-04-09T17:31:34.374074Z",
     "iopub.status.busy": "2024-04-09T17:31:34.373562Z",
     "iopub.status.idle": "2024-04-09T17:31:34.384809Z",
     "shell.execute_reply": "2024-04-09T17:31:34.383476Z"
    },
    "papermill": {
     "duration": 0.021585,
     "end_time": "2024-04-09T17:31:34.387369",
     "exception": false,
     "start_time": "2024-04-09T17:31:34.365784",
     "status": "completed"
    },
    "tags": []
   },
   "outputs": [],
   "source": [
    "# Initialize classifiers\n",
    "dt_classifier = DecisionTreeClassifier(random_state=42)\n",
    "rf_classifier = RandomForestClassifier(random_state=42)\n",
    "knn_classifier = KNeighborsClassifier()\n",
    "svc_classifier = SVC(probability=True, random_state=42)\n",
    "nb_classifier = GaussianNB()"
   ]
  },
  {
   "cell_type": "code",
   "execution_count": 9,
   "id": "47d10497",
   "metadata": {
    "execution": {
     "iopub.execute_input": "2024-04-09T17:31:34.401081Z",
     "iopub.status.busy": "2024-04-09T17:31:34.400480Z",
     "iopub.status.idle": "2024-04-09T17:31:34.407683Z",
     "shell.execute_reply": "2024-04-09T17:31:34.406723Z"
    },
    "papermill": {
     "duration": 0.017112,
     "end_time": "2024-04-09T17:31:34.410362",
     "exception": false,
     "start_time": "2024-04-09T17:31:34.393250",
     "status": "completed"
    },
    "tags": []
   },
   "outputs": [],
   "source": [
    "# Create the ensemble model with soft voting\n",
    "ensemble_classifier = VotingClassifier(estimators=[\n",
    "    ('decision_tree', dt_classifier),\n",
    "    ('random_forest', rf_classifier),\n",
    "    ('k_nearest_neighbors', knn_classifier),\n",
    "    ('support_vector_machine', svc_classifier),\n",
    "    ('naive_bayes', nb_classifier)\n",
    "], voting='soft')"
   ]
  },
  {
   "cell_type": "code",
   "execution_count": 10,
   "id": "4c1f3878",
   "metadata": {
    "execution": {
     "iopub.execute_input": "2024-04-09T17:31:34.425578Z",
     "iopub.status.busy": "2024-04-09T17:31:34.424506Z",
     "iopub.status.idle": "2024-04-09T23:07:09.845188Z",
     "shell.execute_reply": "2024-04-09T23:07:09.841039Z"
    },
    "papermill": {
     "duration": 20135.467052,
     "end_time": "2024-04-09T23:07:09.884188",
     "exception": false,
     "start_time": "2024-04-09T17:31:34.417136",
     "status": "completed"
    },
    "tags": []
   },
   "outputs": [
    {
     "data": {
      "text/html": [
       "<style>#sk-container-id-1 {color: black;background-color: white;}#sk-container-id-1 pre{padding: 0;}#sk-container-id-1 div.sk-toggleable {background-color: white;}#sk-container-id-1 label.sk-toggleable__label {cursor: pointer;display: block;width: 100%;margin-bottom: 0;padding: 0.3em;box-sizing: border-box;text-align: center;}#sk-container-id-1 label.sk-toggleable__label-arrow:before {content: \"▸\";float: left;margin-right: 0.25em;color: #696969;}#sk-container-id-1 label.sk-toggleable__label-arrow:hover:before {color: black;}#sk-container-id-1 div.sk-estimator:hover label.sk-toggleable__label-arrow:before {color: black;}#sk-container-id-1 div.sk-toggleable__content {max-height: 0;max-width: 0;overflow: hidden;text-align: left;background-color: #f0f8ff;}#sk-container-id-1 div.sk-toggleable__content pre {margin: 0.2em;color: black;border-radius: 0.25em;background-color: #f0f8ff;}#sk-container-id-1 input.sk-toggleable__control:checked~div.sk-toggleable__content {max-height: 200px;max-width: 100%;overflow: auto;}#sk-container-id-1 input.sk-toggleable__control:checked~label.sk-toggleable__label-arrow:before {content: \"▾\";}#sk-container-id-1 div.sk-estimator input.sk-toggleable__control:checked~label.sk-toggleable__label {background-color: #d4ebff;}#sk-container-id-1 div.sk-label input.sk-toggleable__control:checked~label.sk-toggleable__label {background-color: #d4ebff;}#sk-container-id-1 input.sk-hidden--visually {border: 0;clip: rect(1px 1px 1px 1px);clip: rect(1px, 1px, 1px, 1px);height: 1px;margin: -1px;overflow: hidden;padding: 0;position: absolute;width: 1px;}#sk-container-id-1 div.sk-estimator {font-family: monospace;background-color: #f0f8ff;border: 1px dotted black;border-radius: 0.25em;box-sizing: border-box;margin-bottom: 0.5em;}#sk-container-id-1 div.sk-estimator:hover {background-color: #d4ebff;}#sk-container-id-1 div.sk-parallel-item::after {content: \"\";width: 100%;border-bottom: 1px solid gray;flex-grow: 1;}#sk-container-id-1 div.sk-label:hover label.sk-toggleable__label {background-color: #d4ebff;}#sk-container-id-1 div.sk-serial::before {content: \"\";position: absolute;border-left: 1px solid gray;box-sizing: border-box;top: 0;bottom: 0;left: 50%;z-index: 0;}#sk-container-id-1 div.sk-serial {display: flex;flex-direction: column;align-items: center;background-color: white;padding-right: 0.2em;padding-left: 0.2em;position: relative;}#sk-container-id-1 div.sk-item {position: relative;z-index: 1;}#sk-container-id-1 div.sk-parallel {display: flex;align-items: stretch;justify-content: center;background-color: white;position: relative;}#sk-container-id-1 div.sk-item::before, #sk-container-id-1 div.sk-parallel-item::before {content: \"\";position: absolute;border-left: 1px solid gray;box-sizing: border-box;top: 0;bottom: 0;left: 50%;z-index: -1;}#sk-container-id-1 div.sk-parallel-item {display: flex;flex-direction: column;z-index: 1;position: relative;background-color: white;}#sk-container-id-1 div.sk-parallel-item:first-child::after {align-self: flex-end;width: 50%;}#sk-container-id-1 div.sk-parallel-item:last-child::after {align-self: flex-start;width: 50%;}#sk-container-id-1 div.sk-parallel-item:only-child::after {width: 0;}#sk-container-id-1 div.sk-dashed-wrapped {border: 1px dashed gray;margin: 0 0.4em 0.5em 0.4em;box-sizing: border-box;padding-bottom: 0.4em;background-color: white;}#sk-container-id-1 div.sk-label label {font-family: monospace;font-weight: bold;display: inline-block;line-height: 1.2em;}#sk-container-id-1 div.sk-label-container {text-align: center;}#sk-container-id-1 div.sk-container {/* jupyter's `normalize.less` sets `[hidden] { display: none; }` but bootstrap.min.css set `[hidden] { display: none !important; }` so we also need the `!important` here to be able to override the default hidden behavior on the sphinx rendered scikit-learn.org. See: https://github.com/scikit-learn/scikit-learn/issues/21755 */display: inline-block !important;position: relative;}#sk-container-id-1 div.sk-text-repr-fallback {display: none;}</style><div id=\"sk-container-id-1\" class=\"sk-top-container\"><div class=\"sk-text-repr-fallback\"><pre>VotingClassifier(estimators=[(&#x27;decision_tree&#x27;,\n",
       "                              DecisionTreeClassifier(random_state=42)),\n",
       "                             (&#x27;random_forest&#x27;,\n",
       "                              RandomForestClassifier(random_state=42)),\n",
       "                             (&#x27;k_nearest_neighbors&#x27;, KNeighborsClassifier()),\n",
       "                             (&#x27;support_vector_machine&#x27;,\n",
       "                              SVC(probability=True, random_state=42)),\n",
       "                             (&#x27;naive_bayes&#x27;, GaussianNB())],\n",
       "                 voting=&#x27;soft&#x27;)</pre><b>In a Jupyter environment, please rerun this cell to show the HTML representation or trust the notebook. <br />On GitHub, the HTML representation is unable to render, please try loading this page with nbviewer.org.</b></div><div class=\"sk-container\" hidden><div class=\"sk-item sk-dashed-wrapped\"><div class=\"sk-label-container\"><div class=\"sk-label sk-toggleable\"><input class=\"sk-toggleable__control sk-hidden--visually\" id=\"sk-estimator-id-1\" type=\"checkbox\" ><label for=\"sk-estimator-id-1\" class=\"sk-toggleable__label sk-toggleable__label-arrow\">VotingClassifier</label><div class=\"sk-toggleable__content\"><pre>VotingClassifier(estimators=[(&#x27;decision_tree&#x27;,\n",
       "                              DecisionTreeClassifier(random_state=42)),\n",
       "                             (&#x27;random_forest&#x27;,\n",
       "                              RandomForestClassifier(random_state=42)),\n",
       "                             (&#x27;k_nearest_neighbors&#x27;, KNeighborsClassifier()),\n",
       "                             (&#x27;support_vector_machine&#x27;,\n",
       "                              SVC(probability=True, random_state=42)),\n",
       "                             (&#x27;naive_bayes&#x27;, GaussianNB())],\n",
       "                 voting=&#x27;soft&#x27;)</pre></div></div></div><div class=\"sk-parallel\"><div class=\"sk-parallel-item\"><div class=\"sk-item\"><div class=\"sk-label-container\"><div class=\"sk-label sk-toggleable\"><label>decision_tree</label></div></div><div class=\"sk-serial\"><div class=\"sk-item\"><div class=\"sk-estimator sk-toggleable\"><input class=\"sk-toggleable__control sk-hidden--visually\" id=\"sk-estimator-id-2\" type=\"checkbox\" ><label for=\"sk-estimator-id-2\" class=\"sk-toggleable__label sk-toggleable__label-arrow\">DecisionTreeClassifier</label><div class=\"sk-toggleable__content\"><pre>DecisionTreeClassifier(random_state=42)</pre></div></div></div></div></div></div><div class=\"sk-parallel-item\"><div class=\"sk-item\"><div class=\"sk-label-container\"><div class=\"sk-label sk-toggleable\"><label>random_forest</label></div></div><div class=\"sk-serial\"><div class=\"sk-item\"><div class=\"sk-estimator sk-toggleable\"><input class=\"sk-toggleable__control sk-hidden--visually\" id=\"sk-estimator-id-3\" type=\"checkbox\" ><label for=\"sk-estimator-id-3\" class=\"sk-toggleable__label sk-toggleable__label-arrow\">RandomForestClassifier</label><div class=\"sk-toggleable__content\"><pre>RandomForestClassifier(random_state=42)</pre></div></div></div></div></div></div><div class=\"sk-parallel-item\"><div class=\"sk-item\"><div class=\"sk-label-container\"><div class=\"sk-label sk-toggleable\"><label>k_nearest_neighbors</label></div></div><div class=\"sk-serial\"><div class=\"sk-item\"><div class=\"sk-estimator sk-toggleable\"><input class=\"sk-toggleable__control sk-hidden--visually\" id=\"sk-estimator-id-4\" type=\"checkbox\" ><label for=\"sk-estimator-id-4\" class=\"sk-toggleable__label sk-toggleable__label-arrow\">KNeighborsClassifier</label><div class=\"sk-toggleable__content\"><pre>KNeighborsClassifier()</pre></div></div></div></div></div></div><div class=\"sk-parallel-item\"><div class=\"sk-item\"><div class=\"sk-label-container\"><div class=\"sk-label sk-toggleable\"><label>support_vector_machine</label></div></div><div class=\"sk-serial\"><div class=\"sk-item\"><div class=\"sk-estimator sk-toggleable\"><input class=\"sk-toggleable__control sk-hidden--visually\" id=\"sk-estimator-id-5\" type=\"checkbox\" ><label for=\"sk-estimator-id-5\" class=\"sk-toggleable__label sk-toggleable__label-arrow\">SVC</label><div class=\"sk-toggleable__content\"><pre>SVC(probability=True, random_state=42)</pre></div></div></div></div></div></div><div class=\"sk-parallel-item\"><div class=\"sk-item\"><div class=\"sk-label-container\"><div class=\"sk-label sk-toggleable\"><label>naive_bayes</label></div></div><div class=\"sk-serial\"><div class=\"sk-item\"><div class=\"sk-estimator sk-toggleable\"><input class=\"sk-toggleable__control sk-hidden--visually\" id=\"sk-estimator-id-6\" type=\"checkbox\" ><label for=\"sk-estimator-id-6\" class=\"sk-toggleable__label sk-toggleable__label-arrow\">GaussianNB</label><div class=\"sk-toggleable__content\"><pre>GaussianNB()</pre></div></div></div></div></div></div></div></div></div></div>"
      ],
      "text/plain": [
       "VotingClassifier(estimators=[('decision_tree',\n",
       "                              DecisionTreeClassifier(random_state=42)),\n",
       "                             ('random_forest',\n",
       "                              RandomForestClassifier(random_state=42)),\n",
       "                             ('k_nearest_neighbors', KNeighborsClassifier()),\n",
       "                             ('support_vector_machine',\n",
       "                              SVC(probability=True, random_state=42)),\n",
       "                             ('naive_bayes', GaussianNB())],\n",
       "                 voting='soft')"
      ]
     },
     "execution_count": 10,
     "metadata": {},
     "output_type": "execute_result"
    }
   ],
   "source": [
    "# Fit the ensemble model on the training data\n",
    "ensemble_classifier.fit(X_train, y_train)"
   ]
  },
  {
   "cell_type": "code",
   "execution_count": 11,
   "id": "f5d70b0f",
   "metadata": {
    "execution": {
     "iopub.execute_input": "2024-04-09T23:07:09.903422Z",
     "iopub.status.busy": "2024-04-09T23:07:09.901967Z",
     "iopub.status.idle": "2024-04-09T23:42:53.293068Z",
     "shell.execute_reply": "2024-04-09T23:42:53.286847Z"
    },
    "papermill": {
     "duration": 2143.416977,
     "end_time": "2024-04-09T23:42:53.307584",
     "exception": false,
     "start_time": "2024-04-09T23:07:09.890607",
     "status": "completed"
    },
    "tags": []
   },
   "outputs": [],
   "source": [
    "\n",
    "# Predict the labels for the test data\n",
    "y_pred = ensemble_classifier.predict(X_test)"
   ]
  },
  {
   "cell_type": "code",
   "execution_count": 12,
   "id": "49ffd9c9",
   "metadata": {
    "execution": {
     "iopub.execute_input": "2024-04-09T23:42:53.338972Z",
     "iopub.status.busy": "2024-04-09T23:42:53.338279Z",
     "iopub.status.idle": "2024-04-09T23:42:53.357741Z",
     "shell.execute_reply": "2024-04-09T23:42:53.356560Z"
    },
    "papermill": {
     "duration": 0.038229,
     "end_time": "2024-04-09T23:42:53.363948",
     "exception": false,
     "start_time": "2024-04-09T23:42:53.325719",
     "status": "completed"
    },
    "tags": []
   },
   "outputs": [
    {
     "name": "stdout",
     "output_type": "stream",
     "text": [
      "Accuracy: 0.9947791164658635\n"
     ]
    }
   ],
   "source": [
    "\n",
    "# Calculate accuracy\n",
    "accuracy = accuracy_score(y_test, y_pred)\n",
    "print(\"Accuracy:\", accuracy)"
   ]
  },
  {
   "cell_type": "code",
   "execution_count": 13,
   "id": "165c661f",
   "metadata": {
    "execution": {
     "iopub.execute_input": "2024-04-09T23:42:53.378500Z",
     "iopub.status.busy": "2024-04-09T23:42:53.377849Z",
     "iopub.status.idle": "2024-04-09T23:42:53.421957Z",
     "shell.execute_reply": "2024-04-09T23:42:53.420827Z"
    },
    "papermill": {
     "duration": 0.054271,
     "end_time": "2024-04-09T23:42:53.424744",
     "exception": false,
     "start_time": "2024-04-09T23:42:53.370473",
     "status": "completed"
    },
    "tags": []
   },
   "outputs": [
    {
     "name": "stdout",
     "output_type": "stream",
     "text": [
      "Classification Report:\n",
      "              precision    recall  f1-score   support\n",
      "\n",
      "        Cyst       1.00      1.00      1.00       765\n",
      "      Normal       0.99      1.00      1.00      1015\n",
      "       Stone       1.00      0.97      0.98       276\n",
      "       Tumor       1.00      0.99      0.99       434\n",
      "\n",
      "    accuracy                           0.99      2490\n",
      "   macro avg       1.00      0.99      0.99      2490\n",
      "weighted avg       0.99      0.99      0.99      2490\n",
      "\n"
     ]
    }
   ],
   "source": [
    "# Generate and print classification report\n",
    "class_report = classification_report(y_test, y_pred)\n",
    "print(\"Classification Report:\")\n",
    "print(class_report)"
   ]
  },
  {
   "cell_type": "code",
   "execution_count": 14,
   "id": "86238653",
   "metadata": {
    "execution": {
     "iopub.execute_input": "2024-04-09T23:42:53.439590Z",
     "iopub.status.busy": "2024-04-09T23:42:53.438557Z",
     "iopub.status.idle": "2024-04-09T23:42:53.950411Z",
     "shell.execute_reply": "2024-04-09T23:42:53.949174Z"
    },
    "papermill": {
     "duration": 0.522791,
     "end_time": "2024-04-09T23:42:53.953849",
     "exception": false,
     "start_time": "2024-04-09T23:42:53.431058",
     "status": "completed"
    },
    "tags": []
   },
   "outputs": [
    {
     "data": {
      "image/png": "[encoded data removed]",
      "text/plain": [
       "<Figure size 640x480 with 2 Axes>"
      ]
     },
     "metadata": {},
     "output_type": "display_data"
    }
   ],
   "source": [
    "# Generate and plot confusion matrix\n",
    "conf_matrix = confusion_matrix(y_test, y_pred)\n",
    "sns.heatmap(conf_matrix, annot=True, fmt='d', cmap='Blues', xticklabels=class_directories.keys(), yticklabels=class_directories.keys())\n",
    "plt.xlabel('Predicted Labels')\n",
    "plt.ylabel('True Labels')\n",
    "plt.title('Confusion Matrix')\n",
    "plt.show()"
   ]
  },
  {
   "cell_type": "code",
   "execution_count": 15,
   "id": "ffa1fc1d",
   "metadata": {
    "execution": {
     "iopub.execute_input": "2024-04-09T23:42:53.971020Z",
     "iopub.status.busy": "2024-04-09T23:42:53.970615Z",
     "iopub.status.idle": "2024-04-10T00:18:59.423180Z",
     "shell.execute_reply": "2024-04-10T00:18:59.420908Z"
    },
    "papermill": {
     "duration": 2165.492554,
     "end_time": "2024-04-10T00:18:59.454701",
     "exception": false,
     "start_time": "2024-04-09T23:42:53.962147",
     "status": "completed"
    },
    "tags": []
   },
   "outputs": [
    {
     "data": {
      "image/png": "[encoded data removed]",
      "text/plain": [
       "<Figure size 800x600 with 1 Axes>"
      ]
     },
     "metadata": {},
     "output_type": "display_data"
    }
   ],
   "source": [
    "# Binarize the labels\n",
    "y_test_bin = label_binarize(y_test, classes=['Cyst', 'Normal', 'Stone', 'Tumor'])\n",
    "\n",
    "# Predict probabilities for each class\n",
    "y_score = ensemble_classifier.predict_proba(X_test)\n",
    "\n",
    "# Compute ROC curve and ROC area for each class\n",
    "fpr = dict()\n",
    "tpr = dict()\n",
    "roc_auc = dict()\n",
    "n_classes = y_test_bin.shape[1]\n",
    "for i in range(n_classes):\n",
    "    fpr[i], tpr[i], _ = roc_curve(y_test_bin[:, i], y_score[:, i])\n",
    "    roc_auc[i] = auc(fpr[i], tpr[i])\n",
    "\n",
    "# Plot ROC curve\n",
    "plt.figure(figsize=(8, 6))\n",
    "colors = ['blue', 'green', 'red', 'orange']\n",
    "for i, color in zip(range(n_classes), colors):\n",
    "    plt.plot(fpr[i], tpr[i], color=color, lw=2, label='ROC curve (area = %0.2f)' % roc_auc[i])\n",
    "\n",
    "plt.plot([0, 1], [0, 1], color='gray', linestyle='--')\n",
    "plt.xlim([0.0, 1.0])\n",
    "plt.ylim([0.0, 1.05])\n",
    "plt.xlabel('False Positive Rate')\n",
    "plt.ylabel('True Positive Rate')\n",
    "plt.title('Receiver Operating Characteristic (ROC) Curve')\n",
    "plt.legend(loc=\"lower right\")\n",
    "plt.show()"
   ]
  }
 ],
 "metadata": {
  "kaggle": {
   "accelerator": "none",
   "dataSources": [
    {
     "datasetId": 4705852,
     "sourceId": 7993237,
     "sourceType": "datasetVersion"
    }
   ],
   "dockerImageVersionId": 30684,
   "isGpuEnabled": false,
   "isInternetEnabled": true,
   "language": "python",
   "sourceType": "notebook"
  },
  "kernelspec": {
   "display_name": "Python 3",
   "language": "python",
   "name": "python3"
  },
  "language_info": {
   "codemirror_mode": {
    "name": "ipython",
    "version": 3
   },
   "file_extension": ".py",
   "mimetype": "text/x-python",
   "name": "python",
   "nbconvert_exporter": "python",
   "pygments_lexer": "ipython3",
   "version": "3.10.13"
  },
  "papermill": {
   "default_parameters": {},
   "duration": 37607.331023,
   "end_time": "2024-04-10T00:19:00.853627",
   "environment_variables": {},
   "exception": null,
   "input_path": "__notebook__.ipynb",
   "output_path": "__notebook__.ipynb",
   "parameters": {},
   "start_time": "2024-04-09T13:52:13.522604",
   "version": "2.5.0"
  }
 },
 "nbformat": 4,
 "nbformat_minor": 5
}
