{
 "cells": [
  {
   "cell_type": "code",
   "execution_count": 1,
   "id": "559d6139",
   "metadata": {
    "_cell_guid": "b1076dfc-b9ad-4769-8c92-a6c4dae69d19",
    "_uuid": "8f2839f25d086af736a60e9eeb907d3b93b6e0e5",
    "execution": {
     "iopub.execute_input": "2024-04-08T06:59:57.098426Z",
     "iopub.status.busy": "2024-04-08T06:59:57.097651Z",
     "iopub.status.idle": "2024-04-08T07:00:00.180499Z",
     "shell.execute_reply": "2024-04-08T07:00:00.179251Z"
    },
    "papermill": {
     "duration": 3.093107,
     "end_time": "2024-04-08T07:00:00.183582",
     "exception": false,
     "start_time": "2024-04-08T06:59:57.090475",
     "status": "completed"
    },
    "tags": []
   },
   "outputs": [],
   "source": [
    "import os\n",
    "import numpy as np\n",
    "import cv2\n",
    "from sklearn.ensemble import RandomForestClassifier  # Import Random Forest Classifier\n",
    "from sklearn.model_selection import train_test_split\n",
    "from sklearn.metrics import accuracy_score, classification_report, confusion_matrix, roc_curve, auc\n",
    "from sklearn.preprocessing import label_binarize\n",
    "import seaborn as sns\n",
    "import matplotlib.pyplot as plt\n"
   ]
  },
  {
   "cell_type": "code",
   "execution_count": 2,
   "id": "8d156d5f",
   "metadata": {
    "execution": {
     "iopub.execute_input": "2024-04-08T07:00:00.195921Z",
     "iopub.status.busy": "2024-04-08T07:00:00.194612Z",
     "iopub.status.idle": "2024-04-08T07:00:00.211337Z",
     "shell.execute_reply": "2024-04-08T07:00:00.210126Z"
    },
    "papermill": {
     "duration": 0.025574,
     "end_time": "2024-04-08T07:00:00.214168",
     "exception": false,
     "start_time": "2024-04-08T07:00:00.188594",
     "status": "completed"
    },
    "tags": []
   },
   "outputs": [],
   "source": [
    "def get_pixel(img, center, x, y, bita=0.1):\n",
    "    \"\"\"\n",
    "    Get the pixel value of the image at coordinates x and y.\n",
    "    \"\"\"\n",
    "    try:\n",
    "        return img[x, y]\n",
    "    except IndexError:\n",
    "        # For pixels outside the image boundaries, return the intensity of the center pixel\n",
    "        return center\n",
    "\n",
    "def thresholded(center, pixels, bita=0.1):\n",
    "    \"\"\"\n",
    "    Compare pixel values around the center pixel.\n",
    "    \"\"\"\n",
    "    lower_bound = center * (1 - bita)\n",
    "    upper_bound = center * (1 + bita)\n",
    "    \n",
    "    output = []\n",
    "    for pixel in pixels:\n",
    "        if lower_bound <= pixel <= upper_bound:\n",
    "            output.append(1)\n",
    "        else:\n",
    "            output.append(0)\n",
    "    return output\n",
    "\n",
    "def compute_albp_pixel(img, x, y, bita=0.1):\n",
    "    \"\"\"\n",
    "    Compute the ALBP value of a single pixel.\n",
    "    \"\"\"\n",
    "    center = img[x, y]\n",
    "    pixels = [\n",
    "        get_pixel(img, center, x+1, y-1, bita),\n",
    "        get_pixel(img, center, x, y-1, bita),\n",
    "        get_pixel(img, center, x-1, y-1, bita),\n",
    "        get_pixel(img, center, x-1, y, bita),\n",
    "        get_pixel(img, center, x-1, y+1, bita),\n",
    "        get_pixel(img, center, x, y+1, bita),\n",
    "        get_pixel(img, center, x+1, y+1, bita),\n",
    "        get_pixel(img, center, x+1, y, bita)\n",
    "    ]\n",
    "    values = thresholded(center, pixels, bita)\n",
    "    res = 0\n",
    "    for i in range(len(values)):\n",
    "        res += values[i] * (2**i)\n",
    "    return res\n",
    "\n",
    "def compute_albp_image(image, bita=0.1):\n",
    "    \"\"\"\n",
    "    Compute the ALBP image.\n",
    "    \"\"\"\n",
    "    # Convert the image to grayscale if it's not already\n",
    "    if len(image.shape) > 2:\n",
    "        image = cv2.cvtColor(image, cv2.COLOR_BGR2GRAY)\n",
    "    \n",
    "    # Initialize the ALBP image with zeros\n",
    "    albp_image = np.zeros_like(image)\n",
    "    for i in range(1, image.shape[0] - 1):\n",
    "        for j in range(1, image.shape[1] - 1):\n",
    "            albp_image[i, j] = compute_albp_pixel(image, i, j, bita)\n",
    "    return albp_image"
   ]
  },
  {
   "cell_type": "code",
   "execution_count": 3,
   "id": "751184d3",
   "metadata": {
    "execution": {
     "iopub.execute_input": "2024-04-08T07:00:00.226072Z",
     "iopub.status.busy": "2024-04-08T07:00:00.225633Z",
     "iopub.status.idle": "2024-04-08T07:00:00.230531Z",
     "shell.execute_reply": "2024-04-08T07:00:00.229423Z"
    },
    "papermill": {
     "duration": 0.014012,
     "end_time": "2024-04-08T07:00:00.232963",
     "exception": false,
     "start_time": "2024-04-08T07:00:00.218951",
     "status": "completed"
    },
    "tags": []
   },
   "outputs": [],
   "source": [
    "# Data directories for different classes\n",
    "class_directories = {\n",
    "    'Cyst': '/kaggle/input/kidney-ct-scan-clahe/Cyst',\n",
    "    'Normal': '/kaggle/input/kidney-ct-scan-clahe/Normal',\n",
    "    'Stone': '/kaggle/input/kidney-ct-scan-clahe/Stone',\n",
    "    'Tumor': '/kaggle/input/kidney-ct-scan-clahe/Tumor'\n",
    "}"
   ]
  },
  {
   "cell_type": "code",
   "execution_count": 4,
   "id": "67da29fc",
   "metadata": {
    "execution": {
     "iopub.execute_input": "2024-04-08T07:00:00.244594Z",
     "iopub.status.busy": "2024-04-08T07:00:00.244177Z",
     "iopub.status.idle": "2024-04-08T07:00:00.249525Z",
     "shell.execute_reply": "2024-04-08T07:00:00.248314Z"
    },
    "papermill": {
     "duration": 0.014267,
     "end_time": "2024-04-08T07:00:00.252097",
     "exception": false,
     "start_time": "2024-04-08T07:00:00.237830",
     "status": "completed"
    },
    "tags": []
   },
   "outputs": [],
   "source": [
    "# List to store ALBP features and corresponding labels\n",
    "albp_features = []\n",
    "labels = []"
   ]
  },
  {
   "cell_type": "code",
   "execution_count": 5,
   "id": "b42f2711",
   "metadata": {
    "execution": {
     "iopub.execute_input": "2024-04-08T07:00:00.264246Z",
     "iopub.status.busy": "2024-04-08T07:00:00.263606Z",
     "iopub.status.idle": "2024-04-08T10:40:34.242222Z",
     "shell.execute_reply": "2024-04-08T10:40:34.240870Z"
    },
    "papermill": {
     "duration": 13233.988052,
     "end_time": "2024-04-08T10:40:34.245178",
     "exception": false,
     "start_time": "2024-04-08T07:00:00.257126",
     "status": "completed"
    },
    "tags": []
   },
   "outputs": [],
   "source": [
    "# Iterate over each class directory\n",
    "for class_label, directory in class_directories.items():\n",
    "    # List all image files in the directory\n",
    "    image_files = [os.path.join(directory, file) for file in os.listdir(directory)]\n",
    "    \n",
    "    # Extract ALBP features for each image and store them in the list\n",
    "    for image_file in image_files:\n",
    "        image = cv2.imread(image_file)\n",
    "        albp_feature = compute_albp_image(image)\n",
    "        albp_features.append(albp_feature.ravel())\n",
    "        labels.append(class_label)"
   ]
  },
  {
   "cell_type": "code",
   "execution_count": 6,
   "id": "aadac5e1",
   "metadata": {
    "execution": {
     "iopub.execute_input": "2024-04-08T10:40:34.257988Z",
     "iopub.status.busy": "2024-04-08T10:40:34.257033Z",
     "iopub.status.idle": "2024-04-08T10:40:35.124130Z",
     "shell.execute_reply": "2024-04-08T10:40:35.123071Z"
    },
    "papermill": {
     "duration": 0.876342,
     "end_time": "2024-04-08T10:40:35.126897",
     "exception": false,
     "start_time": "2024-04-08T10:40:34.250555",
     "status": "completed"
    },
    "tags": []
   },
   "outputs": [],
   "source": [
    "# Convert lists to numpy arrays\n",
    "albp_features = np.array(albp_features)\n",
    "labels = np.array(labels)\n"
   ]
  },
  {
   "cell_type": "code",
   "execution_count": 7,
   "id": "ee09a40f",
   "metadata": {
    "execution": {
     "iopub.execute_input": "2024-04-08T10:40:35.139839Z",
     "iopub.status.busy": "2024-04-08T10:40:35.138617Z",
     "iopub.status.idle": "2024-04-08T10:40:35.520851Z",
     "shell.execute_reply": "2024-04-08T10:40:35.519824Z"
    },
    "papermill": {
     "duration": 0.391396,
     "end_time": "2024-04-08T10:40:35.523564",
     "exception": false,
     "start_time": "2024-04-08T10:40:35.132168",
     "status": "completed"
    },
    "tags": []
   },
   "outputs": [],
   "source": [
    "# Split the dataset into training and testing sets\n",
    "X_train, X_test, y_train, y_test = train_test_split(albp_features, labels, test_size=0.2, random_state=42)\n"
   ]
  },
  {
   "cell_type": "code",
   "execution_count": 8,
   "id": "1a3dcaed",
   "metadata": {
    "execution": {
     "iopub.execute_input": "2024-04-08T10:40:35.536623Z",
     "iopub.status.busy": "2024-04-08T10:40:35.535406Z",
     "iopub.status.idle": "2024-04-08T10:40:35.541110Z",
     "shell.execute_reply": "2024-04-08T10:40:35.539975Z"
    },
    "papermill": {
     "duration": 0.014751,
     "end_time": "2024-04-08T10:40:35.543611",
     "exception": false,
     "start_time": "2024-04-08T10:40:35.528860",
     "status": "completed"
    },
    "tags": []
   },
   "outputs": [],
   "source": [
    "# Initialize the Random Forest classifier\n",
    "rf_classifier = RandomForestClassifier(n_estimators=100, random_state=42)  # You can adjust the number of trees (n_estimators) as needed"
   ]
  },
  {
   "cell_type": "code",
   "execution_count": 9,
   "id": "c7558016",
   "metadata": {
    "execution": {
     "iopub.execute_input": "2024-04-08T10:40:35.557227Z",
     "iopub.status.busy": "2024-04-08T10:40:35.556058Z",
     "iopub.status.idle": "2024-04-08T10:43:03.950064Z",
     "shell.execute_reply": "2024-04-08T10:43:03.948831Z"
    },
    "papermill": {
     "duration": 148.409782,
     "end_time": "2024-04-08T10:43:03.958587",
     "exception": false,
     "start_time": "2024-04-08T10:40:35.548805",
     "status": "completed"
    },
    "tags": []
   },
   "outputs": [
    {
     "data": {
      "text/html": [
       "<style>#sk-container-id-1 {color: black;background-color: white;}#sk-container-id-1 pre{padding: 0;}#sk-container-id-1 div.sk-toggleable {background-color: white;}#sk-container-id-1 label.sk-toggleable__label {cursor: pointer;display: block;width: 100%;margin-bottom: 0;padding: 0.3em;box-sizing: border-box;text-align: center;}#sk-container-id-1 label.sk-toggleable__label-arrow:before {content: \"▸\";float: left;margin-right: 0.25em;color: #696969;}#sk-container-id-1 label.sk-toggleable__label-arrow:hover:before {color: black;}#sk-container-id-1 div.sk-estimator:hover label.sk-toggleable__label-arrow:before {color: black;}#sk-container-id-1 div.sk-toggleable__content {max-height: 0;max-width: 0;overflow: hidden;text-align: left;background-color: #f0f8ff;}#sk-container-id-1 div.sk-toggleable__content pre {margin: 0.2em;color: black;border-radius: 0.25em;background-color: #f0f8ff;}#sk-container-id-1 input.sk-toggleable__control:checked~div.sk-toggleable__content {max-height: 200px;max-width: 100%;overflow: auto;}#sk-container-id-1 input.sk-toggleable__control:checked~label.sk-toggleable__label-arrow:before {content: \"▾\";}#sk-container-id-1 div.sk-estimator input.sk-toggleable__control:checked~label.sk-toggleable__label {background-color: #d4ebff;}#sk-container-id-1 div.sk-label input.sk-toggleable__control:checked~label.sk-toggleable__label {background-color: #d4ebff;}#sk-container-id-1 input.sk-hidden--visually {border: 0;clip: rect(1px 1px 1px 1px);clip: rect(1px, 1px, 1px, 1px);height: 1px;margin: -1px;overflow: hidden;padding: 0;position: absolute;width: 1px;}#sk-container-id-1 div.sk-estimator {font-family: monospace;background-color: #f0f8ff;border: 1px dotted black;border-radius: 0.25em;box-sizing: border-box;margin-bottom: 0.5em;}#sk-container-id-1 div.sk-estimator:hover {background-color: #d4ebff;}#sk-container-id-1 div.sk-parallel-item::after {content: \"\";width: 100%;border-bottom: 1px solid gray;flex-grow: 1;}#sk-container-id-1 div.sk-label:hover label.sk-toggleable__label {background-color: #d4ebff;}#sk-container-id-1 div.sk-serial::before {content: \"\";position: absolute;border-left: 1px solid gray;box-sizing: border-box;top: 0;bottom: 0;left: 50%;z-index: 0;}#sk-container-id-1 div.sk-serial {display: flex;flex-direction: column;align-items: center;background-color: white;padding-right: 0.2em;padding-left: 0.2em;position: relative;}#sk-container-id-1 div.sk-item {position: relative;z-index: 1;}#sk-container-id-1 div.sk-parallel {display: flex;align-items: stretch;justify-content: center;background-color: white;position: relative;}#sk-container-id-1 div.sk-item::before, #sk-container-id-1 div.sk-parallel-item::before {content: \"\";position: absolute;border-left: 1px solid gray;box-sizing: border-box;top: 0;bottom: 0;left: 50%;z-index: -1;}#sk-container-id-1 div.sk-parallel-item {display: flex;flex-direction: column;z-index: 1;position: relative;background-color: white;}#sk-container-id-1 div.sk-parallel-item:first-child::after {align-self: flex-end;width: 50%;}#sk-container-id-1 div.sk-parallel-item:last-child::after {align-self: flex-start;width: 50%;}#sk-container-id-1 div.sk-parallel-item:only-child::after {width: 0;}#sk-container-id-1 div.sk-dashed-wrapped {border: 1px dashed gray;margin: 0 0.4em 0.5em 0.4em;box-sizing: border-box;padding-bottom: 0.4em;background-color: white;}#sk-container-id-1 div.sk-label label {font-family: monospace;font-weight: bold;display: inline-block;line-height: 1.2em;}#sk-container-id-1 div.sk-label-container {text-align: center;}#sk-container-id-1 div.sk-container {/* jupyter's `normalize.less` sets `[hidden] { display: none; }` but bootstrap.min.css set `[hidden] { display: none !important; }` so we also need the `!important` here to be able to override the default hidden behavior on the sphinx rendered scikit-learn.org. See: https://github.com/scikit-learn/scikit-learn/issues/21755 */display: inline-block !important;position: relative;}#sk-container-id-1 div.sk-text-repr-fallback {display: none;}</style><div id=\"sk-container-id-1\" class=\"sk-top-container\"><div class=\"sk-text-repr-fallback\"><pre>RandomForestClassifier(random_state=42)</pre><b>In a Jupyter environment, please rerun this cell to show the HTML representation or trust the notebook. <br />On GitHub, the HTML representation is unable to render, please try loading this page with nbviewer.org.</b></div><div class=\"sk-container\" hidden><div class=\"sk-item\"><div class=\"sk-estimator sk-toggleable\"><input class=\"sk-toggleable__control sk-hidden--visually\" id=\"sk-estimator-id-1\" type=\"checkbox\" checked><label for=\"sk-estimator-id-1\" class=\"sk-toggleable__label sk-toggleable__label-arrow\">RandomForestClassifier</label><div class=\"sk-toggleable__content\"><pre>RandomForestClassifier(random_state=42)</pre></div></div></div></div></div>"
      ],
      "text/plain": [
       "RandomForestClassifier(random_state=42)"
      ]
     },
     "execution_count": 9,
     "metadata": {},
     "output_type": "execute_result"
    }
   ],
   "source": [
    "# Fit the classifier on the training data\n",
    "rf_classifier.fit(X_train, y_train)"
   ]
  },
  {
   "cell_type": "code",
   "execution_count": 10,
   "id": "4255f5d4",
   "metadata": {
    "execution": {
     "iopub.execute_input": "2024-04-08T10:43:03.971682Z",
     "iopub.status.busy": "2024-04-08T10:43:03.971273Z",
     "iopub.status.idle": "2024-04-08T10:43:04.307731Z",
     "shell.execute_reply": "2024-04-08T10:43:04.306514Z"
    },
    "papermill": {
     "duration": 0.346529,
     "end_time": "2024-04-08T10:43:04.310661",
     "exception": false,
     "start_time": "2024-04-08T10:43:03.964132",
     "status": "completed"
    },
    "tags": []
   },
   "outputs": [],
   "source": [
    "# Predict the labels for the test data\n",
    "y_pred = rf_classifier.predict(X_test)"
   ]
  },
  {
   "cell_type": "code",
   "execution_count": 11,
   "id": "c07cbbc5",
   "metadata": {
    "execution": {
     "iopub.execute_input": "2024-04-08T10:43:04.323971Z",
     "iopub.status.busy": "2024-04-08T10:43:04.323534Z",
     "iopub.status.idle": "2024-04-08T10:43:04.331286Z",
     "shell.execute_reply": "2024-04-08T10:43:04.330065Z"
    },
    "papermill": {
     "duration": 0.016942,
     "end_time": "2024-04-08T10:43:04.333477",
     "exception": false,
     "start_time": "2024-04-08T10:43:04.316535",
     "status": "completed"
    },
    "tags": []
   },
   "outputs": [
    {
     "name": "stdout",
     "output_type": "stream",
     "text": [
      "Accuracy: 0.9746987951807229\n"
     ]
    }
   ],
   "source": [
    "# Calculate accuracy\n",
    "accuracy = accuracy_score(y_test, y_pred)\n",
    "print(\"Accuracy:\", accuracy)"
   ]
  },
  {
   "cell_type": "code",
   "execution_count": 12,
   "id": "cd5768ce",
   "metadata": {
    "execution": {
     "iopub.execute_input": "2024-04-08T10:43:04.347698Z",
     "iopub.status.busy": "2024-04-08T10:43:04.346534Z",
     "iopub.status.idle": "2024-04-08T10:43:04.390627Z",
     "shell.execute_reply": "2024-04-08T10:43:04.388939Z"
    },
    "papermill": {
     "duration": 0.053918,
     "end_time": "2024-04-08T10:43:04.393309",
     "exception": false,
     "start_time": "2024-04-08T10:43:04.339391",
     "status": "completed"
    },
    "tags": []
   },
   "outputs": [
    {
     "name": "stdout",
     "output_type": "stream",
     "text": [
      "Classification Report:\n",
      "              precision    recall  f1-score   support\n",
      "\n",
      "        Cyst       0.98      0.99      0.99       765\n",
      "      Normal       0.95      1.00      0.98      1015\n",
      "       Stone       1.00      0.84      0.92       276\n",
      "       Tumor       1.00      0.97      0.98       434\n",
      "\n",
      "    accuracy                           0.97      2490\n",
      "   macro avg       0.98      0.95      0.97      2490\n",
      "weighted avg       0.98      0.97      0.97      2490\n",
      "\n"
     ]
    }
   ],
   "source": [
    "# Generate and print classification report\n",
    "class_report = classification_report(y_test, y_pred)\n",
    "print(\"Classification Report:\")\n",
    "print(class_report)"
   ]
  },
  {
   "cell_type": "code",
   "execution_count": 13,
   "id": "99b58757",
   "metadata": {
    "execution": {
     "iopub.execute_input": "2024-04-08T10:43:04.408043Z",
     "iopub.status.busy": "2024-04-08T10:43:04.406837Z",
     "iopub.status.idle": "2024-04-08T10:43:04.825252Z",
     "shell.execute_reply": "2024-04-08T10:43:04.823921Z"
    },
    "papermill": {
     "duration": 0.428697,
     "end_time": "2024-04-08T10:43:04.828022",
     "exception": false,
     "start_time": "2024-04-08T10:43:04.399325",
     "status": "completed"
    },
    "tags": []
   },
   "outputs": [
    {
     "data": {
      "image/png": "[encoded data removed]",
      "text/plain": [
       "<Figure size 640x480 with 2 Axes>"
      ]
     },
     "metadata": {},
     "output_type": "display_data"
    }
   ],
   "source": [
    "# Generate and plot confusion matrix\n",
    "conf_matrix = confusion_matrix(y_test, y_pred)\n",
    "sns.heatmap(conf_matrix, annot=True, fmt='d', cmap='Blues', xticklabels=class_directories.keys(), yticklabels=class_directories.keys())\n",
    "plt.xlabel('Predicted Labels')\n",
    "plt.ylabel('True Labels')\n",
    "plt.title('Confusion Matrix')\n",
    "plt.show()\n"
   ]
  },
  {
   "cell_type": "code",
   "execution_count": 14,
   "id": "cd2fa92f",
   "metadata": {
    "execution": {
     "iopub.execute_input": "2024-04-08T10:43:04.843894Z",
     "iopub.status.busy": "2024-04-08T10:43:04.842872Z",
     "iopub.status.idle": "2024-04-08T10:43:05.514315Z",
     "shell.execute_reply": "2024-04-08T10:43:05.513023Z"
    },
    "papermill": {
     "duration": 0.682312,
     "end_time": "2024-04-08T10:43:05.517027",
     "exception": false,
     "start_time": "2024-04-08T10:43:04.834715",
     "status": "completed"
    },
    "tags": []
   },
   "outputs": [
    {
     "data": {
      "image/png": "[encoded data removed]",
      "text/plain": [
       "<Figure size 800x600 with 1 Axes>"
      ]
     },
     "metadata": {},
     "output_type": "display_data"
    }
   ],
   "source": [
    "# Binarize the labels\n",
    "y_test_bin = label_binarize(y_test, classes=['Cyst', 'Normal', 'Stone', 'Tumor'])\n",
    "\n",
    "# Predict probabilities for each class\n",
    "y_score = rf_classifier.predict_proba(X_test)\n",
    "\n",
    "# Compute ROC curve and ROC area for each class\n",
    "fpr = dict()\n",
    "tpr = dict()\n",
    "roc_auc = dict()\n",
    "n_classes = y_test_bin.shape[1]\n",
    "for i in range(n_classes):\n",
    "    fpr[i], tpr[i], _ = roc_curve(y_test_bin[:, i], y_score[:, i])\n",
    "    roc_auc[i] = auc(fpr[i], tpr[i])\n",
    "\n",
    "# Plot ROC curve\n",
    "plt.figure(figsize=(8, 6))\n",
    "colors = ['blue', 'green', 'red', 'orange']\n",
    "for i, color in zip(range(n_classes), colors):\n",
    "    plt.plot(fpr[i], tpr[i], color=color, lw=2, label='ROC curve (area = %0.2f)' % roc_auc[i])\n",
    "\n",
    "plt.plot([0, 1], [0, 1], color='gray', linestyle='--')\n",
    "plt.xlim([0.0, 1.0])\n",
    "plt.ylim([0.0, 1.05])\n",
    "plt.xlabel('False Positive Rate')\n",
    "plt.ylabel('True Positive Rate')\n",
    "plt.title('Receiver Operating Characteristic (ROC) Curve')\n",
    "plt.legend(loc=\"lower right\")\n",
    "plt.show()"
   ]
  }
 ],
 "metadata": {
  "kaggle": {
   "accelerator": "none",
   "dataSources": [
    {
     "datasetId": 4705852,
     "sourceId": 7993237,
     "sourceType": "datasetVersion"
    }
   ],
   "isGpuEnabled": false,
   "isInternetEnabled": true,
   "language": "python",
   "sourceType": "notebook"
  },
  "kernelspec": {
   "display_name": "Python 3",
   "language": "python",
   "name": "python3"
  },
  "language_info": {
   "codemirror_mode": {
    "name": "ipython",
    "version": 3
   },
   "file_extension": ".py",
   "mimetype": "text/x-python",
   "name": "python",
   "nbconvert_exporter": "python",
   "pygments_lexer": "ipython3",
   "version": "3.10.13"
  },
  "papermill": {
   "default_parameters": {},
   "duration": 13392.655005,
   "end_time": "2024-04-08T10:43:06.377517",
   "environment_variables": {},
   "exception": null,
   "input_path": "__notebook__.ipynb",
   "output_path": "__notebook__.ipynb",
   "parameters": {},
   "start_time": "2024-04-08T06:59:53.722512",
   "version": "2.5.0"
  }
 },
 "nbformat": 4,
 "nbformat_minor": 5
}
