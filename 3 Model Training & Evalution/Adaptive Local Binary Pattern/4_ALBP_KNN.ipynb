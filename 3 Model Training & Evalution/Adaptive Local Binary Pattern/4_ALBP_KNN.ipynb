{
 "cells": [
  {
   "cell_type": "code",
   "execution_count": 1,
   "id": "3024159f",
   "metadata": {
    "_cell_guid": "b1076dfc-b9ad-4769-8c92-a6c4dae69d19",
    "_uuid": "8f2839f25d086af736a60e9eeb907d3b93b6e0e5",
    "execution": {
     "iopub.execute_input": "2024-04-08T01:39:47.974216Z",
     "iopub.status.busy": "2024-04-08T01:39:47.973763Z",
     "iopub.status.idle": "2024-04-08T01:39:51.239875Z",
     "shell.execute_reply": "2024-04-08T01:39:51.238485Z"
    },
    "papermill": {
     "duration": 3.277462,
     "end_time": "2024-04-08T01:39:51.243668",
     "exception": false,
     "start_time": "2024-04-08T01:39:47.966206",
     "status": "completed"
    },
    "tags": []
   },
   "outputs": [],
   "source": [
    "import os\n",
    "import numpy as np\n",
    "import cv2\n",
    "from sklearn.model_selection import train_test_split\n",
    "from sklearn.metrics import accuracy_score, classification_report, confusion_matrix, roc_curve, auc\n",
    "from sklearn.preprocessing import label_binarize\n",
    "from sklearn.neighbors import KNeighborsClassifier\n",
    "import seaborn as sns\n",
    "import matplotlib.pyplot as plt"
   ]
  },
  {
   "cell_type": "code",
   "execution_count": 2,
   "id": "6944f7de",
   "metadata": {
    "execution": {
     "iopub.execute_input": "2024-04-08T01:39:51.256328Z",
     "iopub.status.busy": "2024-04-08T01:39:51.255630Z",
     "iopub.status.idle": "2024-04-08T01:39:51.273023Z",
     "shell.execute_reply": "2024-04-08T01:39:51.271810Z"
    },
    "papermill": {
     "duration": 0.026265,
     "end_time": "2024-04-08T01:39:51.275482",
     "exception": false,
     "start_time": "2024-04-08T01:39:51.249217",
     "status": "completed"
    },
    "tags": []
   },
   "outputs": [],
   "source": [
    "def get_pixel(img, center, x, y, bita=0.1):\n",
    "    \"\"\"\n",
    "    Get the pixel value of the image at coordinates x and y.\n",
    "    \"\"\"\n",
    "    try:\n",
    "        return img[x, y]\n",
    "    except IndexError:\n",
    "        # For pixels outside the image boundaries, return the intensity of the center pixel\n",
    "        return center\n",
    "\n",
    "def thresholded(center, pixels, bita=0.1):\n",
    "    \"\"\"\n",
    "    Compare pixel values around the center pixel.\n",
    "    \"\"\"\n",
    "    lower_bound = center * (1 - bita)\n",
    "    upper_bound = center * (1 + bita)\n",
    "    \n",
    "    output = []\n",
    "    for pixel in pixels:\n",
    "        if lower_bound <= pixel <= upper_bound:\n",
    "            output.append(1)\n",
    "        else:\n",
    "            output.append(0)\n",
    "    return output\n",
    "\n",
    "def compute_lbp_pixel(img, x, y, bita=0.1):\n",
    "    \"\"\"\n",
    "    Compute the LBP value of a single pixel.\n",
    "    \"\"\"\n",
    "    center = img[x, y]\n",
    "    pixels = [\n",
    "        get_pixel(img, center, x+1, y-1, bita),\n",
    "        get_pixel(img, center, x, y-1, bita),\n",
    "        get_pixel(img, center, x-1, y-1, bita),\n",
    "        get_pixel(img, center, x-1, y, bita),\n",
    "        get_pixel(img, center, x-1, y+1, bita),\n",
    "        get_pixel(img, center, x, y+1, bita),\n",
    "        get_pixel(img, center, x+1, y+1, bita),\n",
    "        get_pixel(img, center, x+1, y, bita)\n",
    "    ]\n",
    "    values = thresholded(center, pixels, bita)\n",
    "    res = 0\n",
    "    for i in range(len(values)):\n",
    "        res += values[i] * (2**i)\n",
    "    return res\n",
    "\n",
    "def compute_lbp_image(image, bita=0.1):\n",
    "    \"\"\"\n",
    "    Compute the LBP image.\n",
    "    \"\"\"\n",
    "    # Convert the image to grayscale if it's not already\n",
    "    if len(image.shape) > 2:\n",
    "        image = cv2.cvtColor(image, cv2.COLOR_BGR2GRAY)\n",
    "    \n",
    "    # Initialize the LBP image with zeros\n",
    "    lbp_image = np.zeros_like(image)\n",
    "    for i in range(1, image.shape[0] - 1):\n",
    "        for j in range(1, image.shape[1] - 1):\n",
    "            lbp_image[i, j] = compute_lbp_pixel(image, i, j, bita)\n",
    "    return lbp_image"
   ]
  },
  {
   "cell_type": "code",
   "execution_count": 3,
   "id": "f3467ca2",
   "metadata": {
    "execution": {
     "iopub.execute_input": "2024-04-08T01:39:51.287146Z",
     "iopub.status.busy": "2024-04-08T01:39:51.286653Z",
     "iopub.status.idle": "2024-04-08T01:39:51.292785Z",
     "shell.execute_reply": "2024-04-08T01:39:51.291515Z"
    },
    "papermill": {
     "duration": 0.01511,
     "end_time": "2024-04-08T01:39:51.295544",
     "exception": false,
     "start_time": "2024-04-08T01:39:51.280434",
     "status": "completed"
    },
    "tags": []
   },
   "outputs": [],
   "source": [
    "# Data directories for different classes\n",
    "class_directories = {\n",
    "    'Cyst': '/kaggle/input/kidney-ct-scan-clahe/Cyst',\n",
    "    'Normal': '/kaggle/input/kidney-ct-scan-clahe/Normal',\n",
    "    'Stone': '/kaggle/input/kidney-ct-scan-clahe/Stone',\n",
    "    'Tumor': '/kaggle/input/kidney-ct-scan-clahe/Tumor'\n",
    "}\n"
   ]
  },
  {
   "cell_type": "code",
   "execution_count": 4,
   "id": "acebd6d3",
   "metadata": {
    "execution": {
     "iopub.execute_input": "2024-04-08T01:39:51.307760Z",
     "iopub.status.busy": "2024-04-08T01:39:51.307057Z",
     "iopub.status.idle": "2024-04-08T01:39:51.311433Z",
     "shell.execute_reply": "2024-04-08T01:39:51.310646Z"
    },
    "papermill": {
     "duration": 0.012872,
     "end_time": "2024-04-08T01:39:51.313512",
     "exception": false,
     "start_time": "2024-04-08T01:39:51.300640",
     "status": "completed"
    },
    "tags": []
   },
   "outputs": [],
   "source": [
    "# List to store LBP features and corresponding labels\n",
    "lbp_features = []\n",
    "labels = []"
   ]
  },
  {
   "cell_type": "code",
   "execution_count": 5,
   "id": "d1b63c0b",
   "metadata": {
    "execution": {
     "iopub.execute_input": "2024-04-08T01:39:51.326331Z",
     "iopub.status.busy": "2024-04-08T01:39:51.325433Z",
     "iopub.status.idle": "2024-04-08T05:18:25.061158Z",
     "shell.execute_reply": "2024-04-08T05:18:25.058864Z"
    },
    "papermill": {
     "duration": 13113.746499,
     "end_time": "2024-04-08T05:18:25.064954",
     "exception": false,
     "start_time": "2024-04-08T01:39:51.318455",
     "status": "completed"
    },
    "tags": []
   },
   "outputs": [],
   "source": [
    "# Iterate over each class directory\n",
    "for class_label, directory in class_directories.items():\n",
    "    # List all image files in the directory\n",
    "    image_files = [os.path.join(directory, file) for file in os.listdir(directory)]\n",
    "    \n",
    "    # Extract LBP features for each image and store them in the list\n",
    "    for image_file in image_files:\n",
    "        image = cv2.imread(image_file)\n",
    "        lbp_feature = compute_lbp_image(image)\n",
    "        lbp_features.append(lbp_feature.ravel())\n",
    "        labels.append(class_label)"
   ]
  },
  {
   "cell_type": "code",
   "execution_count": 6,
   "id": "0e7c0e38",
   "metadata": {
    "execution": {
     "iopub.execute_input": "2024-04-08T05:18:25.080406Z",
     "iopub.status.busy": "2024-04-08T05:18:25.078973Z",
     "iopub.status.idle": "2024-04-08T05:18:25.658588Z",
     "shell.execute_reply": "2024-04-08T05:18:25.657169Z"
    },
    "papermill": {
     "duration": 0.590366,
     "end_time": "2024-04-08T05:18:25.661607",
     "exception": false,
     "start_time": "2024-04-08T05:18:25.071241",
     "status": "completed"
    },
    "tags": []
   },
   "outputs": [],
   "source": [
    "# Convert lists to numpy arrays\n",
    "lbp_features = np.array(lbp_features)\n",
    "labels = np.array(labels)"
   ]
  },
  {
   "cell_type": "code",
   "execution_count": 7,
   "id": "84e55c5d",
   "metadata": {
    "execution": {
     "iopub.execute_input": "2024-04-08T05:18:25.674919Z",
     "iopub.status.busy": "2024-04-08T05:18:25.674153Z",
     "iopub.status.idle": "2024-04-08T05:18:26.073241Z",
     "shell.execute_reply": "2024-04-08T05:18:26.071813Z"
    },
    "papermill": {
     "duration": 0.409472,
     "end_time": "2024-04-08T05:18:26.076557",
     "exception": false,
     "start_time": "2024-04-08T05:18:25.667085",
     "status": "completed"
    },
    "tags": []
   },
   "outputs": [],
   "source": [
    "# Split the dataset into training and testing sets\n",
    "X_train, X_test, y_train, y_test = train_test_split(lbp_features, labels, test_size=0.2, random_state=42)"
   ]
  },
  {
   "cell_type": "code",
   "execution_count": 8,
   "id": "a41b840d",
   "metadata": {
    "execution": {
     "iopub.execute_input": "2024-04-08T05:18:26.089735Z",
     "iopub.status.busy": "2024-04-08T05:18:26.089220Z",
     "iopub.status.idle": "2024-04-08T05:18:26.096027Z",
     "shell.execute_reply": "2024-04-08T05:18:26.094657Z"
    },
    "papermill": {
     "duration": 0.016527,
     "end_time": "2024-04-08T05:18:26.098700",
     "exception": false,
     "start_time": "2024-04-08T05:18:26.082173",
     "status": "completed"
    },
    "tags": []
   },
   "outputs": [],
   "source": [
    "# Initialize the KNN classifier with k=5 (you can change this value as needed)\n",
    "knn_classifier = KNeighborsClassifier(n_neighbors=5)"
   ]
  },
  {
   "cell_type": "code",
   "execution_count": 9,
   "id": "6350db2f",
   "metadata": {
    "execution": {
     "iopub.execute_input": "2024-04-08T05:18:26.112701Z",
     "iopub.status.busy": "2024-04-08T05:18:26.112203Z",
     "iopub.status.idle": "2024-04-08T05:18:26.139410Z",
     "shell.execute_reply": "2024-04-08T05:18:26.138065Z"
    },
    "papermill": {
     "duration": 0.037787,
     "end_time": "2024-04-08T05:18:26.142294",
     "exception": false,
     "start_time": "2024-04-08T05:18:26.104507",
     "status": "completed"
    },
    "tags": []
   },
   "outputs": [
    {
     "data": {
      "text/html": [
       "<style>#sk-container-id-1 {color: black;background-color: white;}#sk-container-id-1 pre{padding: 0;}#sk-container-id-1 div.sk-toggleable {background-color: white;}#sk-container-id-1 label.sk-toggleable__label {cursor: pointer;display: block;width: 100%;margin-bottom: 0;padding: 0.3em;box-sizing: border-box;text-align: center;}#sk-container-id-1 label.sk-toggleable__label-arrow:before {content: \"▸\";float: left;margin-right: 0.25em;color: #696969;}#sk-container-id-1 label.sk-toggleable__label-arrow:hover:before {color: black;}#sk-container-id-1 div.sk-estimator:hover label.sk-toggleable__label-arrow:before {color: black;}#sk-container-id-1 div.sk-toggleable__content {max-height: 0;max-width: 0;overflow: hidden;text-align: left;background-color: #f0f8ff;}#sk-container-id-1 div.sk-toggleable__content pre {margin: 0.2em;color: black;border-radius: 0.25em;background-color: #f0f8ff;}#sk-container-id-1 input.sk-toggleable__control:checked~div.sk-toggleable__content {max-height: 200px;max-width: 100%;overflow: auto;}#sk-container-id-1 input.sk-toggleable__control:checked~label.sk-toggleable__label-arrow:before {content: \"▾\";}#sk-container-id-1 div.sk-estimator input.sk-toggleable__control:checked~label.sk-toggleable__label {background-color: #d4ebff;}#sk-container-id-1 div.sk-label input.sk-toggleable__control:checked~label.sk-toggleable__label {background-color: #d4ebff;}#sk-container-id-1 input.sk-hidden--visually {border: 0;clip: rect(1px 1px 1px 1px);clip: rect(1px, 1px, 1px, 1px);height: 1px;margin: -1px;overflow: hidden;padding: 0;position: absolute;width: 1px;}#sk-container-id-1 div.sk-estimator {font-family: monospace;background-color: #f0f8ff;border: 1px dotted black;border-radius: 0.25em;box-sizing: border-box;margin-bottom: 0.5em;}#sk-container-id-1 div.sk-estimator:hover {background-color: #d4ebff;}#sk-container-id-1 div.sk-parallel-item::after {content: \"\";width: 100%;border-bottom: 1px solid gray;flex-grow: 1;}#sk-container-id-1 div.sk-label:hover label.sk-toggleable__label {background-color: #d4ebff;}#sk-container-id-1 div.sk-serial::before {content: \"\";position: absolute;border-left: 1px solid gray;box-sizing: border-box;top: 0;bottom: 0;left: 50%;z-index: 0;}#sk-container-id-1 div.sk-serial {display: flex;flex-direction: column;align-items: center;background-color: white;padding-right: 0.2em;padding-left: 0.2em;position: relative;}#sk-container-id-1 div.sk-item {position: relative;z-index: 1;}#sk-container-id-1 div.sk-parallel {display: flex;align-items: stretch;justify-content: center;background-color: white;position: relative;}#sk-container-id-1 div.sk-item::before, #sk-container-id-1 div.sk-parallel-item::before {content: \"\";position: absolute;border-left: 1px solid gray;box-sizing: border-box;top: 0;bottom: 0;left: 50%;z-index: -1;}#sk-container-id-1 div.sk-parallel-item {display: flex;flex-direction: column;z-index: 1;position: relative;background-color: white;}#sk-container-id-1 div.sk-parallel-item:first-child::after {align-self: flex-end;width: 50%;}#sk-container-id-1 div.sk-parallel-item:last-child::after {align-self: flex-start;width: 50%;}#sk-container-id-1 div.sk-parallel-item:only-child::after {width: 0;}#sk-container-id-1 div.sk-dashed-wrapped {border: 1px dashed gray;margin: 0 0.4em 0.5em 0.4em;box-sizing: border-box;padding-bottom: 0.4em;background-color: white;}#sk-container-id-1 div.sk-label label {font-family: monospace;font-weight: bold;display: inline-block;line-height: 1.2em;}#sk-container-id-1 div.sk-label-container {text-align: center;}#sk-container-id-1 div.sk-container {/* jupyter's `normalize.less` sets `[hidden] { display: none; }` but bootstrap.min.css set `[hidden] { display: none !important; }` so we also need the `!important` here to be able to override the default hidden behavior on the sphinx rendered scikit-learn.org. See: https://github.com/scikit-learn/scikit-learn/issues/21755 */display: inline-block !important;position: relative;}#sk-container-id-1 div.sk-text-repr-fallback {display: none;}</style><div id=\"sk-container-id-1\" class=\"sk-top-container\"><div class=\"sk-text-repr-fallback\"><pre>KNeighborsClassifier()</pre><b>In a Jupyter environment, please rerun this cell to show the HTML representation or trust the notebook. <br />On GitHub, the HTML representation is unable to render, please try loading this page with nbviewer.org.</b></div><div class=\"sk-container\" hidden><div class=\"sk-item\"><div class=\"sk-estimator sk-toggleable\"><input class=\"sk-toggleable__control sk-hidden--visually\" id=\"sk-estimator-id-1\" type=\"checkbox\" checked><label for=\"sk-estimator-id-1\" class=\"sk-toggleable__label sk-toggleable__label-arrow\">KNeighborsClassifier</label><div class=\"sk-toggleable__content\"><pre>KNeighborsClassifier()</pre></div></div></div></div></div>"
      ],
      "text/plain": [
       "KNeighborsClassifier()"
      ]
     },
     "execution_count": 9,
     "metadata": {},
     "output_type": "execute_result"
    }
   ],
   "source": [
    "# Fit the classifier on the training data\n",
    "knn_classifier.fit(X_train, y_train)"
   ]
  },
  {
   "cell_type": "code",
   "execution_count": 10,
   "id": "ae3eca18",
   "metadata": {
    "execution": {
     "iopub.execute_input": "2024-04-08T05:18:26.157701Z",
     "iopub.status.busy": "2024-04-08T05:18:26.157170Z",
     "iopub.status.idle": "2024-04-08T05:19:10.622189Z",
     "shell.execute_reply": "2024-04-08T05:19:10.621101Z"
    },
    "papermill": {
     "duration": 44.476169,
     "end_time": "2024-04-08T05:19:10.625481",
     "exception": false,
     "start_time": "2024-04-08T05:18:26.149312",
     "status": "completed"
    },
    "tags": []
   },
   "outputs": [],
   "source": [
    "# Predict the labels for the test data\n",
    "y_pred = knn_classifier.predict(X_test)"
   ]
  },
  {
   "cell_type": "code",
   "execution_count": 11,
   "id": "d09ab3fe",
   "metadata": {
    "execution": {
     "iopub.execute_input": "2024-04-08T05:19:10.640156Z",
     "iopub.status.busy": "2024-04-08T05:19:10.639625Z",
     "iopub.status.idle": "2024-04-08T05:19:10.649757Z",
     "shell.execute_reply": "2024-04-08T05:19:10.648178Z"
    },
    "papermill": {
     "duration": 0.020635,
     "end_time": "2024-04-08T05:19:10.652350",
     "exception": false,
     "start_time": "2024-04-08T05:19:10.631715",
     "status": "completed"
    },
    "tags": []
   },
   "outputs": [
    {
     "name": "stdout",
     "output_type": "stream",
     "text": [
      "Accuracy: 0.9995983935742971\n"
     ]
    }
   ],
   "source": [
    "# Calculate accuracy\n",
    "accuracy = accuracy_score(y_test, y_pred)\n",
    "print(\"Accuracy:\", accuracy)"
   ]
  },
  {
   "cell_type": "code",
   "execution_count": 12,
   "id": "860b618d",
   "metadata": {
    "execution": {
     "iopub.execute_input": "2024-04-08T05:19:10.666777Z",
     "iopub.status.busy": "2024-04-08T05:19:10.666285Z",
     "iopub.status.idle": "2024-04-08T05:19:10.711987Z",
     "shell.execute_reply": "2024-04-08T05:19:10.710565Z"
    },
    "papermill": {
     "duration": 0.056492,
     "end_time": "2024-04-08T05:19:10.714912",
     "exception": false,
     "start_time": "2024-04-08T05:19:10.658420",
     "status": "completed"
    },
    "tags": []
   },
   "outputs": [
    {
     "name": "stdout",
     "output_type": "stream",
     "text": [
      "Classification Report:\n",
      "              precision    recall  f1-score   support\n",
      "\n",
      "        Cyst       1.00      1.00      1.00       765\n",
      "      Normal       1.00      1.00      1.00      1015\n",
      "       Stone       1.00      1.00      1.00       276\n",
      "       Tumor       1.00      1.00      1.00       434\n",
      "\n",
      "    accuracy                           1.00      2490\n",
      "   macro avg       1.00      1.00      1.00      2490\n",
      "weighted avg       1.00      1.00      1.00      2490\n",
      "\n"
     ]
    }
   ],
   "source": [
    "# Generate and print classification report\n",
    "class_report = classification_report(y_test, y_pred)\n",
    "print(\"Classification Report:\")\n",
    "print(class_report)"
   ]
  },
  {
   "cell_type": "code",
   "execution_count": 13,
   "id": "0406b4cd",
   "metadata": {
    "execution": {
     "iopub.execute_input": "2024-04-08T05:19:10.730455Z",
     "iopub.status.busy": "2024-04-08T05:19:10.729862Z",
     "iopub.status.idle": "2024-04-08T05:19:11.176583Z",
     "shell.execute_reply": "2024-04-08T05:19:11.175259Z"
    },
    "papermill": {
     "duration": 0.45827,
     "end_time": "2024-04-08T05:19:11.180029",
     "exception": false,
     "start_time": "2024-04-08T05:19:10.721759",
     "status": "completed"
    },
    "tags": []
   },
   "outputs": [
    {
     "data": {
      "image/png": "[encoded data removed]",
      "text/plain": [
       "<Figure size 640x480 with 2 Axes>"
      ]
     },
     "metadata": {},
     "output_type": "display_data"
    }
   ],
   "source": [
    "# Generate and plot confusion matrix\n",
    "conf_matrix = confusion_matrix(y_test, y_pred)\n",
    "sns.heatmap(conf_matrix, annot=True, fmt='d', cmap='Blues', xticklabels=class_directories.keys(), yticklabels=class_directories.keys())\n",
    "plt.xlabel('Predicted Labels')\n",
    "plt.ylabel('True Labels')\n",
    "plt.title('Confusion Matrix')\n",
    "plt.show()"
   ]
  },
  {
   "cell_type": "code",
   "execution_count": 14,
   "id": "db030b88",
   "metadata": {
    "execution": {
     "iopub.execute_input": "2024-04-08T05:19:11.196862Z",
     "iopub.status.busy": "2024-04-08T05:19:11.195818Z",
     "iopub.status.idle": "2024-04-08T05:19:54.779264Z",
     "shell.execute_reply": "2024-04-08T05:19:54.777969Z"
    },
    "papermill": {
     "duration": 43.603514,
     "end_time": "2024-04-08T05:19:54.790665",
     "exception": false,
     "start_time": "2024-04-08T05:19:11.187151",
     "status": "completed"
    },
    "tags": []
   },
   "outputs": [
    {
     "data": {
      "image/png": "[encoded data removed]",
      "text/plain": [
       "<Figure size 800x600 with 1 Axes>"
      ]
     },
     "metadata": {},
     "output_type": "display_data"
    }
   ],
   "source": [
    "# Binarize the labels\n",
    "y_test_bin = label_binarize(y_test, classes=['Cyst', 'Normal', 'Stone', 'Tumor'])\n",
    "\n",
    "# Predict probabilities for each class\n",
    "y_score = knn_classifier.predict_proba(X_test)\n",
    "\n",
    "# Compute ROC curve and ROC area for each class\n",
    "fpr = dict()\n",
    "tpr = dict()\n",
    "roc_auc = dict()\n",
    "n_classes = y_test_bin.shape[1]\n",
    "for i in range(n_classes):\n",
    "    fpr[i], tpr[i], _ = roc_curve(y_test_bin[:, i], y_score[:, i])\n",
    "    roc_auc[i] = auc(fpr[i], tpr[i])\n",
    "\n",
    "# Plot ROC curve\n",
    "plt.figure(figsize=(8, 6))\n",
    "colors = ['blue', 'green', 'red', 'orange']\n",
    "for i, color in zip(range(n_classes), colors):\n",
    "    plt.plot(fpr[i], tpr[i], color=color, lw=2, label='ROC curve (area = %0.2f)' % roc_auc[i])\n",
    "\n",
    "plt.plot([0, 1], [0, 1], color='gray', linestyle='--')\n",
    "plt.xlim([0.0, 1.0])\n",
    "plt.ylim([0.0, 1.05])\n",
    "plt.xlabel('False Positive Rate')\n",
    "plt.ylabel('True Positive Rate')\n",
    "plt.title('Receiver Operating Characteristic (ROC) Curve')\n",
    "plt.legend(loc=\"lower right\")\n",
    "plt.show()"
   ]
  }
 ],
 "metadata": {
  "kaggle": {
   "accelerator": "none",
   "dataSources": [
    {
     "datasetId": 4705852,
     "sourceId": 7993237,
     "sourceType": "datasetVersion"
    }
   ],
   "isGpuEnabled": false,
   "isInternetEnabled": true,
   "language": "python",
   "sourceType": "notebook"
  },
  "kernelspec": {
   "display_name": "Python 3",
   "language": "python",
   "name": "python3"
  },
  "language_info": {
   "codemirror_mode": {
    "name": "ipython",
    "version": 3
   },
   "file_extension": ".py",
   "mimetype": "text/x-python",
   "name": "python",
   "nbconvert_exporter": "python",
   "pygments_lexer": "ipython3",
   "version": "3.10.13"
  },
  "papermill": {
   "default_parameters": {},
   "duration": 13211.264518,
   "end_time": "2024-04-08T05:19:56.059468",
   "environment_variables": {},
   "exception": null,
   "input_path": "__notebook__.ipynb",
   "output_path": "__notebook__.ipynb",
   "parameters": {},
   "start_time": "2024-04-08T01:39:44.794950",
   "version": "2.5.0"
  }
 },
 "nbformat": 4,
 "nbformat_minor": 5
}
