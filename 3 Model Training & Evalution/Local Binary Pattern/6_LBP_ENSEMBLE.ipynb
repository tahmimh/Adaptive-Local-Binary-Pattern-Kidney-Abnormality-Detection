{
 "cells": [
  {
   "cell_type": "code",
   "execution_count": 1,
   "id": "dc4b70a5",
   "metadata": {
    "execution": {
     "iopub.execute_input": "2024-04-20T15:56:19.207112Z",
     "iopub.status.busy": "2024-04-20T15:56:19.206728Z",
     "iopub.status.idle": "2024-04-20T15:56:21.800481Z",
     "shell.execute_reply": "2024-04-20T15:56:21.799628Z"
    },
    "papermill": {
     "duration": 2.603794,
     "end_time": "2024-04-20T15:56:21.802926",
     "exception": false,
     "start_time": "2024-04-20T15:56:19.199132",
     "status": "completed"
    },
    "tags": []
   },
   "outputs": [],
   "source": [
    "import os\n",
    "import numpy as np\n",
    "from skimage.feature import local_binary_pattern\n",
    "from skimage import io, color\n",
    "from sklearn.model_selection import train_test_split\n",
    "from sklearn.metrics import accuracy_score, classification_report, confusion_matrix, roc_curve, auc, mean_squared_error\n",
    "from sklearn.ensemble import RandomForestClassifier, VotingClassifier\n",
    "from sklearn.neighbors import KNeighborsClassifier\n",
    "from sklearn.svm import SVC\n",
    "from sklearn.tree import DecisionTreeClassifier\n",
    "from sklearn.naive_bayes import GaussianNB\n",
    "from sklearn.preprocessing import label_binarize\n",
    "import seaborn as sns\n",
    "import matplotlib.pyplot as plt"
   ]
  },
  {
   "cell_type": "code",
   "execution_count": 2,
   "id": "4cc2041d",
   "metadata": {
    "_cell_guid": "b1076dfc-b9ad-4769-8c92-a6c4dae69d19",
    "_uuid": "8f2839f25d086af736a60e9eeb907d3b93b6e0e5",
    "execution": {
     "iopub.execute_input": "2024-04-20T15:56:21.816372Z",
     "iopub.status.busy": "2024-04-20T15:56:21.815936Z",
     "iopub.status.idle": "2024-04-20T15:56:21.823057Z",
     "shell.execute_reply": "2024-04-20T15:56:21.822219Z"
    },
    "papermill": {
     "duration": 0.015946,
     "end_time": "2024-04-20T15:56:21.825190",
     "exception": false,
     "start_time": "2024-04-20T15:56:21.809244",
     "status": "completed"
    },
    "tags": []
   },
   "outputs": [],
   "source": [
    "# Define function for extracting LBP features from an image\n",
    "def extract_lbp_features(image_path):\n",
    "    # Read the image\n",
    "    image = io.imread(image_path)\n",
    "    \n",
    "    # Check if the image is grayscale\n",
    "    if len(image.shape) == 2:\n",
    "        # Convert grayscale image to RGB format\n",
    "        image = color.gray2rgb(image)\n",
    "    \n",
    "    # Convert the image to grayscale\n",
    "    gray_image = color.rgb2gray(image)\n",
    "    \n",
    "    # Extract LBP features\n",
    "    radius = 2\n",
    "    n_points = 16 * radius\n",
    "    lbp = local_binary_pattern(gray_image, n_points, radius, method='uniform')\n",
    "    \n",
    "    # Calculate histogram of LBP\n",
    "    hist, _ = np.histogram(lbp.ravel(), bins=np.arange(0, n_points + 3), range=(0, n_points + 2))\n",
    "\n",
    "    # Normalize the histogram\n",
    "    hist = hist.astype(\"float\")\n",
    "    hist /= (hist.sum() + 1e-7)\n",
    "\n",
    "    return hist"
   ]
  },
  {
   "cell_type": "code",
   "execution_count": 3,
   "id": "4c17e6fb",
   "metadata": {
    "execution": {
     "iopub.execute_input": "2024-04-20T15:56:21.837515Z",
     "iopub.status.busy": "2024-04-20T15:56:21.837170Z",
     "iopub.status.idle": "2024-04-20T15:56:21.841683Z",
     "shell.execute_reply": "2024-04-20T15:56:21.840783Z"
    },
    "papermill": {
     "duration": 0.012894,
     "end_time": "2024-04-20T15:56:21.843667",
     "exception": false,
     "start_time": "2024-04-20T15:56:21.830773",
     "status": "completed"
    },
    "tags": []
   },
   "outputs": [],
   "source": [
    "# Data directories for different classes\n",
    "class_directories = {\n",
    "    'Cyst': '/kaggle/input/kidney-ct-scan-clahe/Cyst',\n",
    "    'Normal': '/kaggle/input/kidney-ct-scan-clahe/Normal',\n",
    "    'Stone': '/kaggle/input/kidney-ct-scan-clahe/Stone',\n",
    "    'Tumor': '/kaggle/input/kidney-ct-scan-clahe/Tumor'\n",
    "}\n"
   ]
  },
  {
   "cell_type": "code",
   "execution_count": 4,
   "id": "91fbf2c0",
   "metadata": {
    "execution": {
     "iopub.execute_input": "2024-04-20T15:56:21.856454Z",
     "iopub.status.busy": "2024-04-20T15:56:21.855862Z",
     "iopub.status.idle": "2024-04-20T15:56:21.859868Z",
     "shell.execute_reply": "2024-04-20T15:56:21.858987Z"
    },
    "papermill": {
     "duration": 0.012498,
     "end_time": "2024-04-20T15:56:21.861806",
     "exception": false,
     "start_time": "2024-04-20T15:56:21.849308",
     "status": "completed"
    },
    "tags": []
   },
   "outputs": [],
   "source": [
    "# List to store LBP features and corresponding labels\n",
    "lbp_features = []\n",
    "labels = []"
   ]
  },
  {
   "cell_type": "code",
   "execution_count": 5,
   "id": "55665ac5",
   "metadata": {
    "execution": {
     "iopub.execute_input": "2024-04-20T15:56:21.874126Z",
     "iopub.status.busy": "2024-04-20T15:56:21.873858Z",
     "iopub.status.idle": "2024-04-20T16:06:30.440184Z",
     "shell.execute_reply": "2024-04-20T16:06:30.439277Z"
    },
    "papermill": {
     "duration": 608.575503,
     "end_time": "2024-04-20T16:06:30.442913",
     "exception": false,
     "start_time": "2024-04-20T15:56:21.867410",
     "status": "completed"
    },
    "tags": []
   },
   "outputs": [
    {
     "name": "stderr",
     "output_type": "stream",
     "text": [
      "/opt/conda/lib/python3.10/site-packages/skimage/feature/texture.py:353: UserWarning: Applying `local_binary_pattern` to floating-point images may give unexpected results when small numerical differences between adjacent pixels are present. It is recommended to use this function with images of integer dtype.\n",
      "  warnings.warn(\n"
     ]
    }
   ],
   "source": [
    "# Iterate over each class directory\n",
    "for class_label, directory in class_directories.items():\n",
    "    # List all image files in the directory\n",
    "    image_files = [os.path.join(directory, file) for file in os.listdir(directory)]\n",
    "    \n",
    "    # Extract LBP features for each image and store them in the list\n",
    "    for image_file in image_files:\n",
    "        lbp_feature = extract_lbp_features(image_file)\n",
    "        lbp_features.append(lbp_feature)\n",
    "        labels.append(class_label)\n"
   ]
  },
  {
   "cell_type": "code",
   "execution_count": 6,
   "id": "e55f16b8",
   "metadata": {
    "execution": {
     "iopub.execute_input": "2024-04-20T16:06:30.455843Z",
     "iopub.status.busy": "2024-04-20T16:06:30.455492Z",
     "iopub.status.idle": "2024-04-20T16:06:30.474969Z",
     "shell.execute_reply": "2024-04-20T16:06:30.474081Z"
    },
    "papermill": {
     "duration": 0.028133,
     "end_time": "2024-04-20T16:06:30.477038",
     "exception": false,
     "start_time": "2024-04-20T16:06:30.448905",
     "status": "completed"
    },
    "tags": []
   },
   "outputs": [],
   "source": [
    "# Convert lists to numpy arrays\n",
    "lbp_features = np.array(lbp_features)\n",
    "labels = np.array(labels)"
   ]
  },
  {
   "cell_type": "code",
   "execution_count": 7,
   "id": "5d31ed36",
   "metadata": {
    "execution": {
     "iopub.execute_input": "2024-04-20T16:06:30.489881Z",
     "iopub.status.busy": "2024-04-20T16:06:30.489571Z",
     "iopub.status.idle": "2024-04-20T16:06:30.499269Z",
     "shell.execute_reply": "2024-04-20T16:06:30.498570Z"
    },
    "papermill": {
     "duration": 0.018121,
     "end_time": "2024-04-20T16:06:30.501145",
     "exception": false,
     "start_time": "2024-04-20T16:06:30.483024",
     "status": "completed"
    },
    "tags": []
   },
   "outputs": [],
   "source": [
    "# Split the dataset into training and testing sets\n",
    "X_train, X_test, y_train, y_test = train_test_split(lbp_features, labels, test_size=0.2, random_state=42)\n"
   ]
  },
  {
   "cell_type": "code",
   "execution_count": 8,
   "id": "d1ae7be5",
   "metadata": {
    "execution": {
     "iopub.execute_input": "2024-04-20T16:06:30.513582Z",
     "iopub.status.busy": "2024-04-20T16:06:30.513307Z",
     "iopub.status.idle": "2024-04-20T16:06:30.518199Z",
     "shell.execute_reply": "2024-04-20T16:06:30.517342Z"
    },
    "papermill": {
     "duration": 0.013188,
     "end_time": "2024-04-20T16:06:30.520055",
     "exception": false,
     "start_time": "2024-04-20T16:06:30.506867",
     "status": "completed"
    },
    "tags": []
   },
   "outputs": [],
   "source": [
    "# Initialize the classifiers\n",
    "knn_classifier = KNeighborsClassifier()\n",
    "rf_classifier = RandomForestClassifier(n_estimators=100, random_state=42)\n",
    "svm_classifier = SVC(probability=True, random_state=42)\n",
    "decision_tree = DecisionTreeClassifier(random_state=42)\n",
    "naive_bayes = GaussianNB()"
   ]
  },
  {
   "cell_type": "code",
   "execution_count": 9,
   "id": "77a7bc34",
   "metadata": {
    "execution": {
     "iopub.execute_input": "2024-04-20T16:06:30.532114Z",
     "iopub.status.busy": "2024-04-20T16:06:30.531825Z",
     "iopub.status.idle": "2024-04-20T16:06:30.536541Z",
     "shell.execute_reply": "2024-04-20T16:06:30.535687Z"
    },
    "papermill": {
     "duration": 0.012837,
     "end_time": "2024-04-20T16:06:30.538332",
     "exception": false,
     "start_time": "2024-04-20T16:06:30.525495",
     "status": "completed"
    },
    "tags": []
   },
   "outputs": [],
   "source": [
    "# Create the voting classifier\n",
    "voting_classifier = VotingClassifier(estimators=[\n",
    "    ('knn', knn_classifier),\n",
    "    ('rf', rf_classifier),\n",
    "    ('svm', svm_classifier),\n",
    "    ('decision_tree', decision_tree),\n",
    "    ('naive_bayes', naive_bayes)\n",
    "], voting='soft')"
   ]
  },
  {
   "cell_type": "code",
   "execution_count": 10,
   "id": "4eb82347",
   "metadata": {
    "execution": {
     "iopub.execute_input": "2024-04-20T16:06:30.550228Z",
     "iopub.status.busy": "2024-04-20T16:06:30.549897Z",
     "iopub.status.idle": "2024-04-20T16:07:08.473912Z",
     "shell.execute_reply": "2024-04-20T16:07:08.472926Z"
    },
    "papermill": {
     "duration": 37.938286,
     "end_time": "2024-04-20T16:07:08.481990",
     "exception": false,
     "start_time": "2024-04-20T16:06:30.543704",
     "status": "completed"
    },
    "tags": []
   },
   "outputs": [
    {
     "data": {
      "text/html": [
       "<style>#sk-container-id-1 {color: black;background-color: white;}#sk-container-id-1 pre{padding: 0;}#sk-container-id-1 div.sk-toggleable {background-color: white;}#sk-container-id-1 label.sk-toggleable__label {cursor: pointer;display: block;width: 100%;margin-bottom: 0;padding: 0.3em;box-sizing: border-box;text-align: center;}#sk-container-id-1 label.sk-toggleable__label-arrow:before {content: \"▸\";float: left;margin-right: 0.25em;color: #696969;}#sk-container-id-1 label.sk-toggleable__label-arrow:hover:before {color: black;}#sk-container-id-1 div.sk-estimator:hover label.sk-toggleable__label-arrow:before {color: black;}#sk-container-id-1 div.sk-toggleable__content {max-height: 0;max-width: 0;overflow: hidden;text-align: left;background-color: #f0f8ff;}#sk-container-id-1 div.sk-toggleable__content pre {margin: 0.2em;color: black;border-radius: 0.25em;background-color: #f0f8ff;}#sk-container-id-1 input.sk-toggleable__control:checked~div.sk-toggleable__content {max-height: 200px;max-width: 100%;overflow: auto;}#sk-container-id-1 input.sk-toggleable__control:checked~label.sk-toggleable__label-arrow:before {content: \"▾\";}#sk-container-id-1 div.sk-estimator input.sk-toggleable__control:checked~label.sk-toggleable__label {background-color: #d4ebff;}#sk-container-id-1 div.sk-label input.sk-toggleable__control:checked~label.sk-toggleable__label {background-color: #d4ebff;}#sk-container-id-1 input.sk-hidden--visually {border: 0;clip: rect(1px 1px 1px 1px);clip: rect(1px, 1px, 1px, 1px);height: 1px;margin: -1px;overflow: hidden;padding: 0;position: absolute;width: 1px;}#sk-container-id-1 div.sk-estimator {font-family: monospace;background-color: #f0f8ff;border: 1px dotted black;border-radius: 0.25em;box-sizing: border-box;margin-bottom: 0.5em;}#sk-container-id-1 div.sk-estimator:hover {background-color: #d4ebff;}#sk-container-id-1 div.sk-parallel-item::after {content: \"\";width: 100%;border-bottom: 1px solid gray;flex-grow: 1;}#sk-container-id-1 div.sk-label:hover label.sk-toggleable__label {background-color: #d4ebff;}#sk-container-id-1 div.sk-serial::before {content: \"\";position: absolute;border-left: 1px solid gray;box-sizing: border-box;top: 0;bottom: 0;left: 50%;z-index: 0;}#sk-container-id-1 div.sk-serial {display: flex;flex-direction: column;align-items: center;background-color: white;padding-right: 0.2em;padding-left: 0.2em;position: relative;}#sk-container-id-1 div.sk-item {position: relative;z-index: 1;}#sk-container-id-1 div.sk-parallel {display: flex;align-items: stretch;justify-content: center;background-color: white;position: relative;}#sk-container-id-1 div.sk-item::before, #sk-container-id-1 div.sk-parallel-item::before {content: \"\";position: absolute;border-left: 1px solid gray;box-sizing: border-box;top: 0;bottom: 0;left: 50%;z-index: -1;}#sk-container-id-1 div.sk-parallel-item {display: flex;flex-direction: column;z-index: 1;position: relative;background-color: white;}#sk-container-id-1 div.sk-parallel-item:first-child::after {align-self: flex-end;width: 50%;}#sk-container-id-1 div.sk-parallel-item:last-child::after {align-self: flex-start;width: 50%;}#sk-container-id-1 div.sk-parallel-item:only-child::after {width: 0;}#sk-container-id-1 div.sk-dashed-wrapped {border: 1px dashed gray;margin: 0 0.4em 0.5em 0.4em;box-sizing: border-box;padding-bottom: 0.4em;background-color: white;}#sk-container-id-1 div.sk-label label {font-family: monospace;font-weight: bold;display: inline-block;line-height: 1.2em;}#sk-container-id-1 div.sk-label-container {text-align: center;}#sk-container-id-1 div.sk-container {/* jupyter's `normalize.less` sets `[hidden] { display: none; }` but bootstrap.min.css set `[hidden] { display: none !important; }` so we also need the `!important` here to be able to override the default hidden behavior on the sphinx rendered scikit-learn.org. See: https://github.com/scikit-learn/scikit-learn/issues/21755 */display: inline-block !important;position: relative;}#sk-container-id-1 div.sk-text-repr-fallback {display: none;}</style><div id=\"sk-container-id-1\" class=\"sk-top-container\"><div class=\"sk-text-repr-fallback\"><pre>VotingClassifier(estimators=[(&#x27;knn&#x27;, KNeighborsClassifier()),\n",
       "                             (&#x27;rf&#x27;, RandomForestClassifier(random_state=42)),\n",
       "                             (&#x27;svm&#x27;, SVC(probability=True, random_state=42)),\n",
       "                             (&#x27;decision_tree&#x27;,\n",
       "                              DecisionTreeClassifier(random_state=42)),\n",
       "                             (&#x27;naive_bayes&#x27;, GaussianNB())],\n",
       "                 voting=&#x27;soft&#x27;)</pre><b>In a Jupyter environment, please rerun this cell to show the HTML representation or trust the notebook. <br />On GitHub, the HTML representation is unable to render, please try loading this page with nbviewer.org.</b></div><div class=\"sk-container\" hidden><div class=\"sk-item sk-dashed-wrapped\"><div class=\"sk-label-container\"><div class=\"sk-label sk-toggleable\"><input class=\"sk-toggleable__control sk-hidden--visually\" id=\"sk-estimator-id-1\" type=\"checkbox\" ><label for=\"sk-estimator-id-1\" class=\"sk-toggleable__label sk-toggleable__label-arrow\">VotingClassifier</label><div class=\"sk-toggleable__content\"><pre>VotingClassifier(estimators=[(&#x27;knn&#x27;, KNeighborsClassifier()),\n",
       "                             (&#x27;rf&#x27;, RandomForestClassifier(random_state=42)),\n",
       "                             (&#x27;svm&#x27;, SVC(probability=True, random_state=42)),\n",
       "                             (&#x27;decision_tree&#x27;,\n",
       "                              DecisionTreeClassifier(random_state=42)),\n",
       "                             (&#x27;naive_bayes&#x27;, GaussianNB())],\n",
       "                 voting=&#x27;soft&#x27;)</pre></div></div></div><div class=\"sk-parallel\"><div class=\"sk-parallel-item\"><div class=\"sk-item\"><div class=\"sk-label-container\"><div class=\"sk-label sk-toggleable\"><label>knn</label></div></div><div class=\"sk-serial\"><div class=\"sk-item\"><div class=\"sk-estimator sk-toggleable\"><input class=\"sk-toggleable__control sk-hidden--visually\" id=\"sk-estimator-id-2\" type=\"checkbox\" ><label for=\"sk-estimator-id-2\" class=\"sk-toggleable__label sk-toggleable__label-arrow\">KNeighborsClassifier</label><div class=\"sk-toggleable__content\"><pre>KNeighborsClassifier()</pre></div></div></div></div></div></div><div class=\"sk-parallel-item\"><div class=\"sk-item\"><div class=\"sk-label-container\"><div class=\"sk-label sk-toggleable\"><label>rf</label></div></div><div class=\"sk-serial\"><div class=\"sk-item\"><div class=\"sk-estimator sk-toggleable\"><input class=\"sk-toggleable__control sk-hidden--visually\" id=\"sk-estimator-id-3\" type=\"checkbox\" ><label for=\"sk-estimator-id-3\" class=\"sk-toggleable__label sk-toggleable__label-arrow\">RandomForestClassifier</label><div class=\"sk-toggleable__content\"><pre>RandomForestClassifier(random_state=42)</pre></div></div></div></div></div></div><div class=\"sk-parallel-item\"><div class=\"sk-item\"><div class=\"sk-label-container\"><div class=\"sk-label sk-toggleable\"><label>svm</label></div></div><div class=\"sk-serial\"><div class=\"sk-item\"><div class=\"sk-estimator sk-toggleable\"><input class=\"sk-toggleable__control sk-hidden--visually\" id=\"sk-estimator-id-4\" type=\"checkbox\" ><label for=\"sk-estimator-id-4\" class=\"sk-toggleable__label sk-toggleable__label-arrow\">SVC</label><div class=\"sk-toggleable__content\"><pre>SVC(probability=True, random_state=42)</pre></div></div></div></div></div></div><div class=\"sk-parallel-item\"><div class=\"sk-item\"><div class=\"sk-label-container\"><div class=\"sk-label sk-toggleable\"><label>decision_tree</label></div></div><div class=\"sk-serial\"><div class=\"sk-item\"><div class=\"sk-estimator sk-toggleable\"><input class=\"sk-toggleable__control sk-hidden--visually\" id=\"sk-estimator-id-5\" type=\"checkbox\" ><label for=\"sk-estimator-id-5\" class=\"sk-toggleable__label sk-toggleable__label-arrow\">DecisionTreeClassifier</label><div class=\"sk-toggleable__content\"><pre>DecisionTreeClassifier(random_state=42)</pre></div></div></div></div></div></div><div class=\"sk-parallel-item\"><div class=\"sk-item\"><div class=\"sk-label-container\"><div class=\"sk-label sk-toggleable\"><label>naive_bayes</label></div></div><div class=\"sk-serial\"><div class=\"sk-item\"><div class=\"sk-estimator sk-toggleable\"><input class=\"sk-toggleable__control sk-hidden--visually\" id=\"sk-estimator-id-6\" type=\"checkbox\" ><label for=\"sk-estimator-id-6\" class=\"sk-toggleable__label sk-toggleable__label-arrow\">GaussianNB</label><div class=\"sk-toggleable__content\"><pre>GaussianNB()</pre></div></div></div></div></div></div></div></div></div></div>"
      ],
      "text/plain": [
       "VotingClassifier(estimators=[('knn', KNeighborsClassifier()),\n",
       "                             ('rf', RandomForestClassifier(random_state=42)),\n",
       "                             ('svm', SVC(probability=True, random_state=42)),\n",
       "                             ('decision_tree',\n",
       "                              DecisionTreeClassifier(random_state=42)),\n",
       "                             ('naive_bayes', GaussianNB())],\n",
       "                 voting='soft')"
      ]
     },
     "execution_count": 10,
     "metadata": {},
     "output_type": "execute_result"
    }
   ],
   "source": [
    "# Fit the voting classifier on the training data\n",
    "voting_classifier.fit(X_train, y_train)"
   ]
  },
  {
   "cell_type": "code",
   "execution_count": 11,
   "id": "6aed7c5e",
   "metadata": {
    "execution": {
     "iopub.execute_input": "2024-04-20T16:07:08.494603Z",
     "iopub.status.busy": "2024-04-20T16:07:08.494292Z",
     "iopub.status.idle": "2024-04-20T16:07:09.848970Z",
     "shell.execute_reply": "2024-04-20T16:07:09.847979Z"
    },
    "papermill": {
     "duration": 1.364122,
     "end_time": "2024-04-20T16:07:09.851815",
     "exception": false,
     "start_time": "2024-04-20T16:07:08.487693",
     "status": "completed"
    },
    "tags": []
   },
   "outputs": [],
   "source": [
    "# Predict the labels for the test data\n",
    "y_pred = voting_classifier.predict(X_test)"
   ]
  },
  {
   "cell_type": "code",
   "execution_count": 12,
   "id": "cc98307d",
   "metadata": {
    "execution": {
     "iopub.execute_input": "2024-04-20T16:07:09.869965Z",
     "iopub.status.busy": "2024-04-20T16:07:09.869643Z",
     "iopub.status.idle": "2024-04-20T16:07:09.876215Z",
     "shell.execute_reply": "2024-04-20T16:07:09.874931Z"
    },
    "papermill": {
     "duration": 0.018105,
     "end_time": "2024-04-20T16:07:09.878684",
     "exception": false,
     "start_time": "2024-04-20T16:07:09.860579",
     "status": "completed"
    },
    "tags": []
   },
   "outputs": [
    {
     "name": "stdout",
     "output_type": "stream",
     "text": [
      "Accuracy: 0.8839357429718876\n"
     ]
    }
   ],
   "source": [
    "# Calculate accuracy\n",
    "accuracy = accuracy_score(y_test, y_pred)\n",
    "print(\"Accuracy:\", accuracy)"
   ]
  },
  {
   "cell_type": "code",
   "execution_count": 13,
   "id": "3b437768",
   "metadata": {
    "execution": {
     "iopub.execute_input": "2024-04-20T16:07:09.896267Z",
     "iopub.status.busy": "2024-04-20T16:07:09.895899Z",
     "iopub.status.idle": "2024-04-20T16:07:09.946914Z",
     "shell.execute_reply": "2024-04-20T16:07:09.945858Z"
    },
    "papermill": {
     "duration": 0.062311,
     "end_time": "2024-04-20T16:07:09.949188",
     "exception": false,
     "start_time": "2024-04-20T16:07:09.886877",
     "status": "completed"
    },
    "tags": []
   },
   "outputs": [
    {
     "name": "stdout",
     "output_type": "stream",
     "text": [
      "Classification Report:\n",
      "              precision    recall  f1-score   support\n",
      "\n",
      "        Cyst       0.88      0.96      0.92       765\n",
      "      Normal       0.88      0.95      0.92      1015\n",
      "       Stone       0.86      0.69      0.76       276\n",
      "       Tumor       0.91      0.71      0.80       434\n",
      "\n",
      "    accuracy                           0.88      2490\n",
      "   macro avg       0.88      0.83      0.85      2490\n",
      "weighted avg       0.88      0.88      0.88      2490\n",
      "\n"
     ]
    }
   ],
   "source": [
    "# Generate and print classification report\n",
    "class_report = classification_report(y_test, y_pred)\n",
    "print(\"Classification Report:\")\n",
    "print(class_report)"
   ]
  },
  {
   "cell_type": "code",
   "execution_count": 14,
   "id": "904f19ce",
   "metadata": {
    "execution": {
     "iopub.execute_input": "2024-04-20T16:07:09.963242Z",
     "iopub.status.busy": "2024-04-20T16:07:09.962965Z",
     "iopub.status.idle": "2024-04-20T16:07:10.311454Z",
     "shell.execute_reply": "2024-04-20T16:07:10.310425Z"
    },
    "papermill": {
     "duration": 0.357882,
     "end_time": "2024-04-20T16:07:10.313595",
     "exception": false,
     "start_time": "2024-04-20T16:07:09.955713",
     "status": "completed"
    },
    "tags": []
   },
   "outputs": [
    {
     "data": {
      "image/png": "[encoded data removed]",
      "text/plain": [
       "<Figure size 640x480 with 2 Axes>"
      ]
     },
     "metadata": {},
     "output_type": "display_data"
    }
   ],
   "source": [
    "# Generate and plot confusion matrix\n",
    "conf_matrix = confusion_matrix(y_test, y_pred)\n",
    "sns.heatmap(conf_matrix, annot=True, fmt='d', cmap='Blues', xticklabels=class_directories.keys(), yticklabels=class_directories.keys())\n",
    "plt.xlabel('Predicted Labels')\n",
    "plt.ylabel('True Labels')\n",
    "plt.title('Confusion Matrix')\n",
    "plt.show()"
   ]
  },
  {
   "cell_type": "code",
   "execution_count": 15,
   "id": "623b3d0e",
   "metadata": {
    "execution": {
     "iopub.execute_input": "2024-04-20T16:07:10.328214Z",
     "iopub.status.busy": "2024-04-20T16:07:10.327641Z",
     "iopub.status.idle": "2024-04-20T16:07:10.335517Z",
     "shell.execute_reply": "2024-04-20T16:07:10.334673Z"
    },
    "papermill": {
     "duration": 0.01731,
     "end_time": "2024-04-20T16:07:10.337583",
     "exception": false,
     "start_time": "2024-04-20T16:07:10.320273",
     "status": "completed"
    },
    "tags": []
   },
   "outputs": [],
   "source": [
    "# Binarize the labels\n",
    "y_test_bin = label_binarize(y_test, classes=['Cyst', 'Normal', 'Stone', 'Tumor'])\n"
   ]
  },
  {
   "cell_type": "code",
   "execution_count": 16,
   "id": "2fd2b380",
   "metadata": {
    "execution": {
     "iopub.execute_input": "2024-04-20T16:07:10.351473Z",
     "iopub.status.busy": "2024-04-20T16:07:10.351198Z",
     "iopub.status.idle": "2024-04-20T16:07:12.120605Z",
     "shell.execute_reply": "2024-04-20T16:07:12.119769Z"
    },
    "papermill": {
     "duration": 1.778948,
     "end_time": "2024-04-20T16:07:12.122872",
     "exception": false,
     "start_time": "2024-04-20T16:07:10.343924",
     "status": "completed"
    },
    "tags": []
   },
   "outputs": [],
   "source": [
    "# Predict probabilities for each class\n",
    "y_score = voting_classifier.predict_proba(X_test)"
   ]
  },
  {
   "cell_type": "code",
   "execution_count": 17,
   "id": "a359b5d0",
   "metadata": {
    "execution": {
     "iopub.execute_input": "2024-04-20T16:07:12.137231Z",
     "iopub.status.busy": "2024-04-20T16:07:12.136899Z",
     "iopub.status.idle": "2024-04-20T16:07:12.378296Z",
     "shell.execute_reply": "2024-04-20T16:07:12.377378Z"
    },
    "papermill": {
     "duration": 0.251158,
     "end_time": "2024-04-20T16:07:12.380725",
     "exception": false,
     "start_time": "2024-04-20T16:07:12.129567",
     "status": "completed"
    },
    "tags": []
   },
   "outputs": [
    {
     "data": {
      "image/png": "[encoded data removed]",
      "text/plain": [
       "<Figure size 800x600 with 1 Axes>"
      ]
     },
     "metadata": {},
     "output_type": "display_data"
    }
   ],
   "source": [
    "# Compute ROC curve and ROC area for each class\n",
    "fpr = dict()\n",
    "tpr = dict()\n",
    "roc_auc = dict()\n",
    "n_classes = y_test_bin.shape[1]\n",
    "for i in range(n_classes):\n",
    "    fpr[i], tpr[i], _ = roc_curve(y_test_bin[:, i], y_score[:, i])\n",
    "    roc_auc[i] = auc(fpr[i], tpr[i])\n",
    "    \n",
    "# Plot ROC curve\n",
    "plt.figure(figsize=(8, 6))\n",
    "colors = ['blue', 'green', 'red', 'orange']\n",
    "for i, color in zip(range(n_classes), colors):\n",
    "    plt.plot(fpr[i], tpr[i], color=color, lw=2, label='ROC curve (area = %0.2f)' % roc_auc[i])\n",
    "\n",
    "plt.plot([0, 1], [0, 1], color='gray', linestyle='--')\n",
    "plt.xlim([0.0, 1.0])\n",
    "plt.ylim([0.0, 1.05])\n",
    "plt.xlabel('False Positive Rate')\n",
    "plt.ylabel('True Positive Rate')\n",
    "plt.title('Receiver Operating Characteristic (ROC) Curve')\n",
    "plt.legend(loc=\"lower right\")\n",
    "plt.show()\n"
   ]
  },
  {
   "cell_type": "code",
   "execution_count": 18,
   "id": "421d42d7",
   "metadata": {
    "execution": {
     "iopub.execute_input": "2024-04-20T16:07:12.397161Z",
     "iopub.status.busy": "2024-04-20T16:07:12.396173Z",
     "iopub.status.idle": "2024-04-20T16:07:12.404879Z",
     "shell.execute_reply": "2024-04-20T16:07:12.403986Z"
    },
    "papermill": {
     "duration": 0.018564,
     "end_time": "2024-04-20T16:07:12.406730",
     "exception": false,
     "start_time": "2024-04-20T16:07:12.388166",
     "status": "completed"
    },
    "tags": []
   },
   "outputs": [
    {
     "name": "stdout",
     "output_type": "stream",
     "text": [
      "RMSE: 0.6804793963341883\n"
     ]
    }
   ],
   "source": [
    "from sklearn.preprocessing import LabelEncoder\n",
    "\n",
    "# Encode class labels\n",
    "label_encoder = LabelEncoder()\n",
    "y_test_encoded = label_encoder.fit_transform(y_test)\n",
    "y_pred_encoded = label_encoder.transform(y_pred)\n",
    "\n",
    "# Calculate RMSE\n",
    "rmse = np.sqrt(mean_squared_error(y_test_encoded, y_pred_encoded))\n",
    "print(\"RMSE:\", rmse)"
   ]
  }
 ],
 "metadata": {
  "kaggle": {
   "accelerator": "gpu",
   "dataSources": [
    {
     "datasetId": 4705852,
     "sourceId": 7993237,
     "sourceType": "datasetVersion"
    }
   ],
   "dockerImageVersionId": 30674,
   "isGpuEnabled": true,
   "isInternetEnabled": true,
   "language": "python",
   "sourceType": "notebook"
  },
  "kernelspec": {
   "display_name": "Python 3",
   "language": "python",
   "name": "python3"
  },
  "language_info": {
   "codemirror_mode": {
    "name": "ipython",
    "version": 3
   },
   "file_extension": ".py",
   "mimetype": "text/x-python",
   "name": "python",
   "nbconvert_exporter": "python",
   "pygments_lexer": "ipython3",
   "version": "3.10.13"
  },
  "papermill": {
   "default_parameters": {},
   "duration": 656.475945,
   "end_time": "2024-04-20T16:07:12.833705",
   "environment_variables": {},
   "exception": null,
   "input_path": "__notebook__.ipynb",
   "output_path": "__notebook__.ipynb",
   "parameters": {},
   "start_time": "2024-04-20T15:56:16.357760",
   "version": "2.5.0"
  }
 },
 "nbformat": 4,
 "nbformat_minor": 5
}
