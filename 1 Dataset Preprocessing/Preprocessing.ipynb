{
 "cells": [
  {
   "cell_type": "code",
   "execution_count": 1,
   "id": "b9c34e64-ccea-4a94-a366-5e025df9e485",
   "metadata": {},
   "outputs": [],
   "source": [
    "import os\n",
    "import cv2"
   ]
  },
  {
   "cell_type": "code",
   "execution_count": 2,
   "id": "9bdf7f7d-480d-4d01-8d46-9ab088a58301",
   "metadata": {},
   "outputs": [],
   "source": [
    "def preprocess_images(input_folder, output_folder):\n",
    "    # Create output directory if it doesn't exist\n",
    "    if not os.path.exists(output_folder):\n",
    "        os.makedirs(output_folder)\n",
    "\n",
    "    # Loop through all files in the input folder\n",
    "    for filename in os.listdir(input_folder):\n",
    "        if filename.endswith(\".jpg\") or filename.endswith(\".png\") or filename.endswith(\".jpeg\"):\n",
    "            # Read the image\n",
    "            img_path = os.path.join(input_folder, filename)\n",
    "            img = cv2.imread(img_path)\n",
    "\n",
    "            # Crop the black borders\n",
    "            cropped_img = crop_black_borders(img)\n",
    "\n",
    "            # Apply CLAHE\n",
    "            clahe_image = apply_clahe(cropped_img)\n",
    "\n",
    "            # Resize the image to 224x224\n",
    "            resized_image = resize_image(clahe_image)\n",
    "\n",
    "            # Save the preprocessed image\n",
    "            output_path = os.path.join(output_folder, filename)\n",
    "            cv2.imwrite(output_path, resized_image)\n",
    "\n",
    "    print(\"Preprocessing completed. Images saved to output directory.\")"
   ]
  },
  {
   "cell_type": "code",
   "execution_count": 3,
   "id": "536fe9fc-e5b3-47d9-8f91-a5d5b8d5a251",
   "metadata": {},
   "outputs": [],
   "source": [
    "# Function to crop black borders from an image\n",
    "def crop_black_borders(img):\n",
    "    # Convert image to grayscale\n",
    "    gray = cv2.cvtColor(img, cv2.COLOR_BGR2GRAY)\n",
    "    \n",
    "    # Find contours\n",
    "    contours, _ = cv2.findContours(gray, cv2.RETR_EXTERNAL, cv2.CHAIN_APPROX_SIMPLE)\n",
    "    \n",
    "    # Find the largest contour\n",
    "    max_contour = max(contours, key=cv2.contourArea)\n",
    "    \n",
    "    # Get bounding box coordinates\n",
    "    x, y, w, h = cv2.boundingRect(max_contour)\n",
    "    \n",
    "    # Crop the image using the bounding box\n",
    "    cropped_img = img[y:y+h, x:x+w]\n",
    "    \n",
    "    return cropped_img"
   ]
  },
  {
   "cell_type": "code",
   "execution_count": 4,
   "id": "85d8249d-aafb-4b85-8dce-bdfe293092e4",
   "metadata": {},
   "outputs": [],
   "source": [
    "# Function to apply CLAHE to an image\n",
    "def apply_clahe(image):\n",
    "    # Convert the image to grayscale\n",
    "    gray = cv2.cvtColor(image, cv2.COLOR_BGR2GRAY)\n",
    "    \n",
    "    # Create a CLAHE object\n",
    "    clahe = cv2.createCLAHE(clipLimit=5.0, tileGridSize=(8, 8))\n",
    "    \n",
    "    # Apply CLAHE to the grayscale image\n",
    "    clahe_image = clahe.apply(gray)\n",
    "    \n",
    "    return clahe_image"
   ]
  },
  {
   "cell_type": "code",
   "execution_count": 5,
   "id": "7ddfb54d-9c2d-4cdc-bfb3-f921fc0c97e0",
   "metadata": {},
   "outputs": [],
   "source": [
    "# Function to resize an image to 224x224\n",
    "def resize_image(image):\n",
    "    # Resize the image to 224x224\n",
    "    resized_image = cv2.resize(image, (224, 224))\n",
    "    \n",
    "    return resized_image\n"
   ]
  },
  {
   "cell_type": "code",
   "execution_count": 7,
   "id": "87e523e6-d902-48d5-a7ee-1fe5abab65c2",
   "metadata": {},
   "outputs": [
    {
     "name": "stdout",
     "output_type": "stream",
     "text": [
      "Preprocessing completed. Images saved to output directory.\n"
     ]
    }
   ],
   "source": [
    "#Normal CT Scan Images\n",
    "input_dir = r\"D:\\University of Alberta\\1_2\\Tahmim\\MM805 - Computer Vision\\Project\\All Project\\Dataset\\CT-KIDNEY-DATASET-Normal-Cyst-Tumor-Stone\\Normal\"\n",
    "output_dir = r\"D:\\University of Alberta\\1_2\\Tahmim\\MM805 - Computer Vision\\Project\\All Project\\0 Preprocessed Datset\\Normal\"\n",
    "preprocess_images(input_dir, output_dir)"
   ]
  },
  {
   "cell_type": "code",
   "execution_count": 8,
   "id": "9c9549ba-3bdd-4da3-bcfc-96b35dd93010",
   "metadata": {},
   "outputs": [
    {
     "name": "stdout",
     "output_type": "stream",
     "text": [
      "Preprocessing completed. Images saved to output directory.\n"
     ]
    }
   ],
   "source": [
    "#Stone CT Scan Images\n",
    "input_dir = r\"D:\\University of Alberta\\1_2\\Tahmim\\MM805 - Computer Vision\\Project\\All Project\\Dataset\\CT-KIDNEY-DATASET-Normal-Cyst-Tumor-Stone\\Stone\"\n",
    "output_dir = r\"D:\\University of Alberta\\1_2\\Tahmim\\MM805 - Computer Vision\\Project\\All Project\\0 Preprocessed Datset\\Stone\"\n",
    "preprocess_images(input_dir, output_dir)"
   ]
  },
  {
   "cell_type": "code",
   "execution_count": 9,
   "id": "5a65bdf1",
   "metadata": {},
   "outputs": [
    {
     "name": "stdout",
     "output_type": "stream",
     "text": [
      "Preprocessing completed. Images saved to output directory.\n"
     ]
    }
   ],
   "source": [
    "#Tumor CT Scan Images\n",
    "input_dir = r\"D:\\University of Alberta\\1_2\\Tahmim\\MM805 - Computer Vision\\Project\\All Project\\Dataset\\CT-KIDNEY-DATASET-Normal-Cyst-Tumor-Stone\\Tumor\"\n",
    "output_dir = r\"D:\\University of Alberta\\1_2\\Tahmim\\MM805 - Computer Vision\\Project\\All Project\\0 Preprocessed Datset\\Tumor\"\n",
    "preprocess_images(input_dir, output_dir)"
   ]
  },
  {
   "cell_type": "code",
   "execution_count": 10,
   "id": "d475b927",
   "metadata": {},
   "outputs": [
    {
     "name": "stdout",
     "output_type": "stream",
     "text": [
      "Preprocessing completed. Images saved to output directory.\n"
     ]
    }
   ],
   "source": [
    "#Cyst CT Scan Images\n",
    "input_dir = r\"D:\\University of Alberta\\1_2\\Tahmim\\MM805 - Computer Vision\\Project\\All Project\\Dataset\\CT-KIDNEY-DATASET-Normal-Cyst-Tumor-Stone\\Cyst\"\n",
    "output_dir = r\"D:\\University of Alberta\\1_2\\Tahmim\\MM805 - Computer Vision\\Project\\All Project\\0 Preprocessed Datset\\Cyst\"\n",
    "preprocess_images(input_dir, output_dir)"
   ]
  }
 ],
 "metadata": {
  "kernelspec": {
   "display_name": "Python 3 (ipykernel)",
   "language": "python",
   "name": "python3"
  },
  "language_info": {
   "codemirror_mode": {
    "name": "ipython",
    "version": 3
   },
   "file_extension": ".py",
   "mimetype": "text/x-python",
   "name": "python",
   "nbconvert_exporter": "python",
   "pygments_lexer": "ipython3",
   "version": "3.9.10"
  }
 },
 "nbformat": 4,
 "nbformat_minor": 5
}
